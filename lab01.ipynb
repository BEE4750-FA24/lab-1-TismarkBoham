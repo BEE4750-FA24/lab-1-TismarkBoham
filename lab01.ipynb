{
  "cells": [
    {
      "cell_type": "markdown",
      "id": "7b030395-ff9d-488b-893a-3f2925d07a29",
      "metadata": {},
      "source": [
        "# BEE 4750 Lab 1: Julia and GitHub Basics\n",
        "\n",
        "**Name**: Tismark Boham\n",
        "\n",
        "**ID**: etb62\n",
        "\n",
        "> **Due Date**\n",
        ">\n",
        "> Wednesday, 8/28/24, 9:00pm\n",
        "\n",
        "## Setup\n",
        "\n",
        "The following code should go at the top of most Julia scripts; it will\n",
        "load the local package environment and install any needed packages. You\n",
        "will see this often and shouldn’t need to touch it."
      ]
    },
    {
      "cell_type": "code",
      "execution_count": 39,
      "id": "2",
      "metadata": {},
      "outputs": [
        {
          "name": "stderr",
          "output_type": "stream",
          "text": [
            "\u001b[32m\u001b[1m  Activating\u001b[22m\u001b[39m project at `~/4750coding/Labs/lab-1-TismarkBoham-1`\n"
          ]
        }
      ],
      "source": [
        "import Pkg\n",
        "Pkg.activate(\".\")\n",
        "Pkg.instantiate()"
      ]
    },
    {
      "cell_type": "markdown",
      "id": "b0c0f53b-93bc-4baa-8b0e-bdb58e8ff961",
      "metadata": {},
      "source": [
        "This next cell loads packages which are required for the rest of the\n",
        "code evaluation. In this case, we only need to load the `Plots.jl`\n",
        "plotting package, but you will see others over the course of the\n",
        "semester (and can add more if desired; just make sure that you’ve [added\n",
        "the new packages to the\n",
        "environment](https://viveks.me/environmental-systems-analysis/tutorials/julia-basics.html#package-management)).\n",
        "Standard Julia practice is to load all of the needed packages at the top\n",
        "of the file.\n",
        "\n",
        "> **Warning**\n",
        ">\n",
        "> Loading packages can take a while, especially the first time! Julia\n",
        "> tries to precompile all of the packages you’re using so repeat use is\n",
        "> faster, but this can be quite slow at first."
      ]
    },
    {
      "cell_type": "code",
      "execution_count": 40,
      "id": "4",
      "metadata": {},
      "outputs": [],
      "source": [
        "using Plots"
      ]
    },
    {
      "cell_type": "markdown",
      "id": "6d2bc421-d992-4864-a390-fd6d7820f6c0",
      "metadata": {},
      "source": [
        "## Introduction\n",
        "\n",
        "### Julia\n",
        "\n",
        "Julia is an up-and-coming language, originally developed for scientific\n",
        "programming. While learning a new programming language always has its\n",
        "hiccups, the good news is that if you’ve programmed in a high-level\n",
        "language such as Python or MATLAB, most Julia concepts should look\n",
        "familiar.\n",
        "\n",
        "If you have not successfully set up Julia, follow the instructions in\n",
        "[Tools\n",
        "Setup](https://viveks.me/environmental-systems-analysis/setup.html)\n",
        "and/or ask for help.\n",
        "\n",
        "You can use other editors for this course, but our recommendation is\n",
        "[Visual Studio Code](https://code.visualstudio.com/) with the [Julia\n",
        "extension](https://marketplace.visualstudio.com/items?itemName=julialang.language-julia),\n",
        "which will make life a *lot* simpler! You should have set this up by\n",
        "following the [Tools\n",
        "Setup](https://viveks.me/environmental-systems-analysis/setup.html)\n",
        "instructions, but if not, do so now and/or ask for help.\n",
        "\n",
        "### Jupyter Notebooks\n",
        "\n",
        "Jupyter notebooks integrate text and equations in Markdown with Julia\n",
        "(or Python, or R) code. To do this, Jupyter notebooks consist of two\n",
        "types of “cells”: code cells and Markdown (text) cells.\n",
        "\n",
        "Click once on this section of text. A box will appear around this text\n",
        "(and some areas above/below it) - all of that is within this cell.\n",
        "\n",
        "Markdown is a text markup framework for formatting language that makes\n",
        "things look pretty when viewed across different platforms: web browsers,\n",
        "notebooks, and so forth. Text written in Markdown can also include\n",
        "hyperlinks, LaTeX equations, section headers, and images, among other\n",
        "features (most of [the course\n",
        "website](https://viveks.me/climate-risk-analysis) and the lecture notes\n",
        "were all written in Markdown!). [Here is a basic Markdown cheat\n",
        "sheet](https://www.markdownguide.org/cheat-sheet/).\n",
        "\n",
        "What you are looking at right now is the formatted text after the\n",
        "Markdown is processed. To see the raw Markdown, do one of:\n",
        "\n",
        "-   press `Enter` while that cell is selected, or\n",
        "-   double-click on that cell.\n",
        "\n",
        "------------------------------------------------------------------------\n",
        "\n",
        "A couple of the features you will see in this Markdown cell:\n",
        "\n",
        "-   The `---` command creates a horizontal line. This is also nice for\n",
        "    separating sections.\n",
        "-   Backticks (`` `...` ``) can be used to format and highlight code,\n",
        "    keystrokes, etc.\n",
        "-   The `#` sign is used to create a new section header; two `#` signs\n",
        "    (`##`) is used to create a new subsection header; `###` creates a\n",
        "    subsubsection, and so on.\n",
        "-   You can create a bulleted list by using the asterisk `*` or a dash\n",
        "    `-` and a space.\n",
        "-   You can create regular text by just typing as usual.\n",
        "-   You can create **bold-faced text** by wrapping it with two asterisks\n",
        "    on both sides.\n",
        "-   You can create *italicized text* by wrapping it with a single\n",
        "    asterisk on both sides.\n",
        "-   To create a new paragraph, you must include a blank line between the\n",
        "    old and new paragraphs.\n",
        "\n",
        "At this point you might be wondering how to turn this cell back into the\n",
        "fully formatted Markdown text instead of the raw Markdown you’re\n",
        "probably still looking at. You have a couple of options, depending on\n",
        "your platform, but the most consistent is to type `Shift + Enter` to\n",
        "**execute** the cell (this is also how to run code, but more on that\n",
        "later).\n",
        "\n",
        "Additionally, you will frequently need to create new cells in your\n",
        "Jupyter notebooks. How you do this will depend on how you interact with\n",
        "the notebook, but try to figure this out now.\n",
        "\n",
        "One tip is to think carefully about what bits of code should be in the\n",
        "same cell, as you typically only see output from the last command in a\n",
        "cell. For example, compare the following:"
      ]
    },
    {
      "cell_type": "code",
      "execution_count": 41,
      "id": "6",
      "metadata": {},
      "outputs": [
        {
          "data": {
            "text/plain": [
              "-0.9589242746631385"
            ]
          },
          "metadata": {},
          "output_type": "display_data"
        }
      ],
      "source": [
        "x = 5\n",
        "sin(x)"
      ]
    },
    {
      "cell_type": "markdown",
      "id": "0b56a2f1-81e8-4426-b62a-95cfc3933b92",
      "metadata": {},
      "source": [
        "with"
      ]
    },
    {
      "cell_type": "code",
      "execution_count": 42,
      "id": "8",
      "metadata": {},
      "outputs": [
        {
          "data": {
            "text/plain": [
              "5"
            ]
          },
          "metadata": {},
          "output_type": "display_data"
        }
      ],
      "source": [
        "x = 5"
      ]
    },
    {
      "cell_type": "code",
      "execution_count": 43,
      "id": "10",
      "metadata": {},
      "outputs": [
        {
          "data": {
            "text/plain": [
              "-0.9589242746631385"
            ]
          },
          "metadata": {},
          "output_type": "display_data"
        }
      ],
      "source": [
        "sin(x)"
      ]
    },
    {
      "cell_type": "markdown",
      "id": "474d541d-93e6-47e1-874f-80abd6c9d7cc",
      "metadata": {},
      "source": [
        "In Julia, you can also suppress the output of a command with a\n",
        "semi-colon:"
      ]
    },
    {
      "cell_type": "code",
      "execution_count": 44,
      "id": "12",
      "metadata": {},
      "outputs": [],
      "source": [
        "sin(x);"
      ]
    },
    {
      "cell_type": "markdown",
      "id": "e5950d08-d04e-4fc7-bed8-33e0ee9a1909",
      "metadata": {},
      "source": [
        "\n",
        "which can help if you want to split some code out for clarity or to\n",
        "insert some text prior to it, but don’t want to clutter the notebook\n",
        "with its output.\n",
        "\n",
        "For code cells, to execute the commands within the cell, we also press\n",
        "`Shift+Enter`.\n",
        "\n",
        "Finally, **make sure that you evaluate all of the code cells in order\n",
        "before submitting**. One bad outcome with notebooks occurs when cells\n",
        "are evaluated out of order, so fixed bugs and edits in previous cells do\n",
        "not get a chance to propagate down. You can do this with the `Run All`\n",
        "command in whichever interface you’re using to edit your notebook.\n",
        "\n",
        "### Julia Basics\n",
        "\n",
        "There are many tutorials and references for Julia, including a [basics\n",
        "overview on the class website](../tutorials/julia-basics.html). Please\n",
        "feel free to reference these as you work through any part of the course.\n",
        "\n",
        "### Formatting Math\n",
        "\n",
        "It will often be helpful to include nicely-formatted mathematics in a\n",
        "notebook. Markdown accomodates this using LaTeX syntax. A LaTeX\n",
        "cheatsheet is available on the class website, and many other guides\n",
        "exist online.\n",
        "\n",
        "Below is an example of a formatted equation: $$x = 5.$$\n",
        "\n",
        "### Looking For Help\n",
        "\n",
        "There is no shame in using Google, or other resources, for help when\n",
        "programming. There are many, many times when you can’t quite get the\n",
        "syntax to work, can’t quite figure out the right package or command to\n",
        "use, or are feeling too lazy or overwhelmed (I’m not judging either of\n",
        "those!) to dig through the documentation. Some good resources include:\n",
        "\n",
        "-   [Stack Overflow](https://stackoverflow.com/) is a treasure trove of\n",
        "    answers;\n",
        "-   The [official Julia forum](https://discourse.julialang.org/) and the\n",
        "    [Julia Subreddit](https://www.reddit.com/r/Julia/) are also very\n",
        "    useful.\n",
        "\n",
        "You are also highly encouraged to post on [Ed\n",
        "Discussion](https://us.edstem.org), though getting a response might be\n",
        "less immediate. Just be mindful that to get good answers, [you have to\n",
        "help people help you](https://stackoverflow.com/help/how-to-ask), and\n",
        "**make sure to give credit to any resources that were helpful**!\n",
        "\n",
        "## Exercises (3 points)\n",
        "\n",
        "Use your understanding of Julia syntax and the GitHub workflow to\n",
        "complete the following (hopefully short) exercises. Convert your\n",
        "completed lab assignment to a PDF and submit it to the Gradescope\n",
        "Assignment “Lab 1”.\n",
        "\n",
        "**Remember to**:\n",
        "\n",
        "-   Include a (succint but clear) writeup of the core idea underlying\n",
        "    your code, through some combination of equations, text, and\n",
        "    algorithms. As you are not required to submit your code, we will not\n",
        "    be looking at it in detail, and instead will rely on those writeups\n",
        "    to assess whether your approach is correct.\n",
        "-   If using the notebook, evaluate all of your code cells, in order\n",
        "    (using a `Run All` command). This will make sure all output is\n",
        "    visible and that the code cells were evaluated in the correct order.\n",
        "-   Tag each of the problems when you submit to Gradescope; a 10%\n",
        "    penalty will be deducted if this is not done.\n",
        "\n",
        "### Computing a Dot Product\n",
        "\n",
        "Given two numeric arrays `x` and `y`, write a function to compute their\n",
        "dot product if they have equal length, and return an error if not (this\n",
        "is useful for debugging!). Use the following code as a starting point."
      ]
    },
    {
      "cell_type": "code",
      "execution_count": 45,
      "id": "14",
      "metadata": {},
      "outputs": [
        {
          "data": {
            "text/plain": [
              "dot_product (generic function with 1 method)"
            ]
          },
          "metadata": {},
          "output_type": "display_data"
        }
      ],
      "source": [
        "function dot_product(x, y)\n",
        "    \n",
        "    if length(x)==length(y) # insert test condition for equal lengths\n",
        "        #set the loop to the lengths of the vectors\n",
        "        dProduct = 0;\n",
        "        i=length(x)\n",
        "        # compute and return dot product\n",
        "        for i = 1:i\n",
        "            dProduct = dProduct + (x[i]*y[i])\n",
        "        end\n",
        "\n",
        "    else\n",
        "        throw(DimensionMismatch(\"length of x not equal to length of y\"))\n",
        "    end\n",
        "    #return the result of the function\n",
        "    return dProduct\n",
        "end"
      ]
    },
    {
      "cell_type": "markdown",
      "id": "4e0dde45",
      "metadata": {},
      "source": [
        "A dot product is defined by $$A\\bullet B = A_1 * B_1 +...+A_n * B_n$$ My 'if' statement compares the lengths of the input vectors; if they don't match, the dot product cannot be found. Otherwise, the vectors will be multiplied entry by entry using a for loop, and the product will be added to a counting variable. Finally, the sum of the products will be returned by the function."
      ]
    },
    {
      "cell_type": "markdown",
      "id": "e0ce47a6-a5e8-4cd8-a776-5b04adfa6330",
      "metadata": {},
      "source": [
        "Here are some tests to make sure your code works as intended. Tests like\n",
        "these are useful to make sure everything works as intended. One reason\n",
        "to split your code up into functions is that it makes it straightforward\n",
        "to write tests to make sure each piece of your code works, which makes\n",
        "it easier to identify where errors are occuring."
      ]
    },
    {
      "cell_type": "code",
      "execution_count": 46,
      "id": "16",
      "metadata": {},
      "outputs": [
        {
          "data": {
            "text/plain": [
              "32"
            ]
          },
          "metadata": {},
          "output_type": "display_data"
        }
      ],
      "source": [
        "dot_product([1 2 3], [4 5 6])"
      ]
    },
    {
      "cell_type": "markdown",
      "id": "37f85171-25e8-4513-b57c-af25ff4378e7",
      "metadata": {},
      "source": [
        "If you know the value you should get, you can write a more formal test\n",
        "using the `@assert` macro, which is a good way to “automate” checking\n",
        "(since you get an obvious error if the code doesn’t work as desired):"
      ]
    },
    {
      "cell_type": "code",
      "execution_count": 47,
      "id": "18",
      "metadata": {},
      "outputs": [],
      "source": [
        "@assert dot_product([1 2 3], [4 5 6]) == 32"
      ]
    },
    {
      "cell_type": "markdown",
      "id": "65ccdcd8-449e-4f0c-8f4e-7953ea267f8d",
      "metadata": {},
      "source": [
        "Let’s also make sure we get an error when the dimensions of the two\n",
        "vectors don’t match:"
      ]
    },
    {
      "cell_type": "code",
      "execution_count": 48,
      "id": "20",
      "metadata": {},
      "outputs": [
        {
          "ename": "DimensionMismatch",
          "evalue": "DimensionMismatch: length of x not equal to length of y",
          "output_type": "error",
          "traceback": [
            "DimensionMismatch: length of x not equal to length of y\n",
            "\n",
            "Stacktrace:\n",
            " [1] dot_product(x::Matrix{Int64}, y::Matrix{Int64})\n",
            "   @ Main ~/4750coding/Labs/lab-1-TismarkBoham-1/jl_notebook_cell_df34fa98e69747e1a8f8a730347b8e2f_X15sZmlsZQ==.jl:13\n",
            " [2] top-level scope\n",
            "   @ ~/4750coding/Labs/lab-1-TismarkBoham-1/jl_notebook_cell_df34fa98e69747e1a8f8a730347b8e2f_X24sZmlsZQ==.jl:1"
          ]
        }
      ],
      "source": [
        "dot_product([1 2 3], [4 5])"
      ]
    },
    {
      "cell_type": "markdown",
      "id": "8c069a05-159a-43b4-aa3f-d1fec9a2f727",
      "metadata": {},
      "source": [
        "### Making a Plot\n",
        "\n",
        "Write a function to compute the square of an integer `x`. Evaluate this\n",
        "function for integers between $x=-5$ and $x=5$ and make a plot of the\n",
        "squared values (you can find a quick guide to making various types of\n",
        "plots\n",
        "[here](https://viveks.me/environmental-systems-analysis/tutorials/julia-plots.html)).\n",
        "Make sure to label your axes."
      ]
    },
    {
      "cell_type": "code",
      "execution_count": 49,
      "id": "22",
      "metadata": {},
      "outputs": [
        {
          "data": {
            "text/plain": [
              "squarefn (generic function with 1 method)"
            ]
          },
          "metadata": {},
          "output_type": "display_data"
        }
      ],
      "source": [
        "# insert your code here\n",
        "function squarefn(x)\n",
        "    return x*x\n",
        "end"
      ]
    },
    {
      "cell_type": "markdown",
      "id": "0bc4f8d9",
      "metadata": {},
      "source": [
        "I simply multiply the input by itself because... $$x^2 = x*x$$"
      ]
    },
    {
      "cell_type": "code",
      "execution_count": 50,
      "id": "207e18cd",
      "metadata": {},
      "outputs": [
        {
          "data": {
            "image/png": "[encoded data removed]",
            "image/svg+xml": [
              "<?xml version=\"1.0\" encoding=\"utf-8\"?>\n",
              "<svg xmlns=\"http://www.w3.org/2000/svg\" xmlns:xlink=\"http://www.w3.org/1999/xlink\" width=\"600\" height=\"400\" viewBox=\"0 0 2400 1600\">\n",
              "<defs>\n",
              "  <clipPath id=\"clip860\">\n",
              "    <rect x=\"0\" y=\"0\" width=\"2400\" height=\"1600\"/>\n",
              "  </clipPath>\n",
              "</defs>\n",
              "<path clip-path=\"url(#clip860)\" d=\"M0 1600 L2400 1600 L2400 0 L0 0  Z\" fill=\"#ffffff\" fill-rule=\"evenodd\" fill-opacity=\"1\"/>\n",
              "<defs>\n",
              "  <clipPath id=\"clip861\">\n",
              "    <rect x=\"480\" y=\"0\" width=\"1681\" height=\"1600\"/>\n",
              "  </clipPath>\n",
              "</defs>\n",
              "<path clip-path=\"url(#clip860)\" d=\"M203.964 1423.18 L2352.76 1423.18 L2352.76 123.472 L203.964 123.472  Z\" fill=\"#ffffff\" fill-rule=\"evenodd\" fill-opacity=\"1\"/>\n",
              "<defs>\n",
              "  <clipPath id=\"clip862\">\n",
              "    <rect x=\"203\" y=\"123\" width=\"2150\" height=\"1301\"/>\n",
              "  </clipPath>\n",
              "</defs>\n",
              "<polyline clip-path=\"url(#clip862)\" style=\"stroke:#000000; stroke-linecap:round; stroke-linejoin:round; stroke-width:2; stroke-opacity:0.1; fill:none\" points=\"467.495,1423.18 467.495,123.472 \"/>\n",
              "<polyline clip-path=\"url(#clip862)\" style=\"stroke:#000000; stroke-linecap:round; stroke-linejoin:round; stroke-width:2; stroke-opacity:0.1; fill:none\" points=\"872.927,1423.18 872.927,123.472 \"/>\n",
              "<polyline clip-path=\"url(#clip862)\" style=\"stroke:#000000; stroke-linecap:round; stroke-linejoin:round; stroke-width:2; stroke-opacity:0.1; fill:none\" points=\"1278.36,1423.18 1278.36,123.472 \"/>\n",
              "<polyline clip-path=\"url(#clip862)\" style=\"stroke:#000000; stroke-linecap:round; stroke-linejoin:round; stroke-width:2; stroke-opacity:0.1; fill:none\" points=\"1683.79,1423.18 1683.79,123.472 \"/>\n",
              "<polyline clip-path=\"url(#clip862)\" style=\"stroke:#000000; stroke-linecap:round; stroke-linejoin:round; stroke-width:2; stroke-opacity:0.1; fill:none\" points=\"2089.22,1423.18 2089.22,123.472 \"/>\n",
              "<polyline clip-path=\"url(#clip860)\" style=\"stroke:#000000; stroke-linecap:round; stroke-linejoin:round; stroke-width:4; stroke-opacity:1; fill:none\" points=\"203.964,1423.18 2352.76,1423.18 \"/>\n",
              "<polyline clip-path=\"url(#clip860)\" style=\"stroke:#000000; stroke-linecap:round; stroke-linejoin:round; stroke-width:4; stroke-opacity:1; fill:none\" points=\"467.495,1423.18 467.495,1404.28 \"/>\n",
              "<polyline clip-path=\"url(#clip860)\" style=\"stroke:#000000; stroke-linecap:round; stroke-linejoin:round; stroke-width:4; stroke-opacity:1; fill:none\" points=\"872.927,1423.18 872.927,1404.28 \"/>\n",
              "<polyline clip-path=\"url(#clip860)\" style=\"stroke:#000000; stroke-linecap:round; stroke-linejoin:round; stroke-width:4; stroke-opacity:1; fill:none\" points=\"1278.36,1423.18 1278.36,1404.28 \"/>\n",
              "<polyline clip-path=\"url(#clip860)\" style=\"stroke:#000000; stroke-linecap:round; stroke-linejoin:round; stroke-width:4; stroke-opacity:1; fill:none\" points=\"1683.79,1423.18 1683.79,1404.28 \"/>\n",
              "<polyline clip-path=\"url(#clip860)\" style=\"stroke:#000000; stroke-linecap:round; stroke-linejoin:round; stroke-width:4; stroke-opacity:1; fill:none\" points=\"2089.22,1423.18 2089.22,1404.28 \"/>\n",
              "<path clip-path=\"url(#clip860)\" d=\"M436.395 1468.75 L466.071 1468.75 L466.071 1472.69 L436.395 1472.69 L436.395 1468.75 Z\" fill=\"#000000\" fill-rule=\"nonzero\" fill-opacity=\"1\" /><path clip-path=\"url(#clip860)\" d=\"M489.011 1455.09 L477.205 1473.54 L489.011 1473.54 L489.011 1455.09 M487.784 1451.02 L493.664 1451.02 L493.664 1473.54 L498.594 1473.54 L498.594 1477.43 L493.664 1477.43 L493.664 1485.58 L489.011 1485.58 L489.011 1477.43 L473.409 1477.43 L473.409 1472.92 L487.784 1451.02 Z\" fill=\"#000000\" fill-rule=\"nonzero\" fill-opacity=\"1\" /><path clip-path=\"url(#clip860)\" d=\"M842.87 1468.75 L872.545 1468.75 L872.545 1472.69 L842.87 1472.69 L842.87 1468.75 Z\" fill=\"#000000\" fill-rule=\"nonzero\" fill-opacity=\"1\" /><path clip-path=\"url(#clip860)\" d=\"M886.666 1481.64 L902.985 1481.64 L902.985 1485.58 L881.041 1485.58 L881.041 1481.64 Q883.703 1478.89 888.286 1474.26 Q892.892 1469.61 894.073 1468.27 Q896.318 1465.74 897.198 1464.01 Q898.101 1462.25 898.101 1460.56 Q898.101 1457.8 896.156 1456.07 Q894.235 1454.33 891.133 1454.33 Q888.934 1454.33 886.48 1455.09 Q884.05 1455.86 881.272 1457.41 L881.272 1452.69 Q884.096 1451.55 886.55 1450.97 Q889.004 1450.39 891.041 1450.39 Q896.411 1450.39 899.605 1453.08 Q902.8 1455.77 902.8 1460.26 Q902.8 1462.39 901.99 1464.31 Q901.203 1466.2 899.096 1468.8 Q898.517 1469.47 895.416 1472.69 Q892.314 1475.88 886.666 1481.64 Z\" fill=\"#000000\" fill-rule=\"nonzero\" fill-opacity=\"1\" /><path clip-path=\"url(#clip860)\" d=\"M1278.36 1454.1 Q1274.75 1454.1 1272.92 1457.66 Q1271.11 1461.2 1271.11 1468.33 Q1271.11 1475.44 1272.92 1479.01 Q1274.75 1482.55 1278.36 1482.55 Q1281.99 1482.55 1283.8 1479.01 Q1285.63 1475.44 1285.63 1468.33 Q1285.63 1461.2 1283.8 1457.66 Q1281.99 1454.1 1278.36 1454.1 M1278.36 1450.39 Q1284.17 1450.39 1287.23 1455 Q1290.3 1459.58 1290.3 1468.33 Q1290.3 1477.06 1287.23 1481.67 Q1284.17 1486.25 1278.36 1486.25 Q1272.55 1486.25 1269.47 1481.67 Q1266.42 1477.06 1266.42 1468.33 Q1266.42 1459.58 1269.47 1455 Q1272.55 1450.39 1278.36 1450.39 Z\" fill=\"#000000\" fill-rule=\"nonzero\" fill-opacity=\"1\" /><path clip-path=\"url(#clip860)\" d=\"M1678.45 1481.64 L1694.76 1481.64 L1694.76 1485.58 L1672.82 1485.58 L1672.82 1481.64 Q1675.48 1478.89 1680.07 1474.26 Q1684.67 1469.61 1685.85 1468.27 Q1688.1 1465.74 1688.98 1464.01 Q1689.88 1462.25 1689.88 1460.56 Q1689.88 1457.8 1687.94 1456.07 Q1686.01 1454.33 1682.91 1454.33 Q1680.71 1454.33 1678.26 1455.09 Q1675.83 1455.86 1673.05 1457.41 L1673.05 1452.69 Q1675.88 1451.55 1678.33 1450.97 Q1680.78 1450.39 1682.82 1450.39 Q1688.19 1450.39 1691.38 1453.08 Q1694.58 1455.77 1694.58 1460.26 Q1694.58 1462.39 1693.77 1464.31 Q1692.98 1466.2 1690.88 1468.8 Q1690.3 1469.47 1687.2 1472.69 Q1684.09 1475.88 1678.45 1481.64 Z\" fill=\"#000000\" fill-rule=\"nonzero\" fill-opacity=\"1\" /><path clip-path=\"url(#clip860)\" d=\"M2092.23 1455.09 L2080.43 1473.54 L2092.23 1473.54 L2092.23 1455.09 M2091.01 1451.02 L2096.89 1451.02 L2096.89 1473.54 L2101.82 1473.54 L2101.82 1477.43 L2096.89 1477.43 L2096.89 1485.58 L2092.23 1485.58 L2092.23 1477.43 L2076.63 1477.43 L2076.63 1472.92 L2091.01 1451.02 Z\" fill=\"#000000\" fill-rule=\"nonzero\" fill-opacity=\"1\" /><path clip-path=\"url(#clip860)\" d=\"M1179.13 1532.4 L1166.24 1549.74 L1179.8 1568.04 L1172.9 1568.04 L1162.52 1554.04 L1152.14 1568.04 L1145.24 1568.04 L1159.08 1549.39 L1146.41 1532.4 L1153.32 1532.4 L1162.77 1545.1 L1172.23 1532.4 L1179.13 1532.4 Z\" fill=\"#000000\" fill-rule=\"nonzero\" fill-opacity=\"1\" /><path clip-path=\"url(#clip860)\" d=\"M1204.6 1532.4 L1210.8 1532.4 L1221.94 1562.31 L1233.08 1532.4 L1239.29 1532.4 L1225.92 1568.04 L1217.97 1568.04 L1204.6 1532.4 Z\" fill=\"#000000\" fill-rule=\"nonzero\" fill-opacity=\"1\" /><path clip-path=\"url(#clip860)\" d=\"M1263.58 1550.12 Q1256.48 1550.12 1253.74 1551.75 Q1251 1553.37 1251 1557.29 Q1251 1560.4 1253.04 1562.25 Q1255.11 1564.07 1258.64 1564.07 Q1263.51 1564.07 1266.44 1560.63 Q1269.4 1557.16 1269.4 1551.43 L1269.4 1550.12 L1263.58 1550.12 M1275.26 1547.71 L1275.26 1568.04 L1269.4 1568.04 L1269.4 1562.63 Q1267.39 1565.88 1264.4 1567.44 Q1261.41 1568.97 1257.08 1568.97 Q1251.61 1568.97 1248.36 1565.91 Q1245.15 1562.82 1245.15 1557.67 Q1245.15 1551.65 1249.16 1548.6 Q1253.2 1545.54 1261.19 1545.54 L1269.4 1545.54 L1269.4 1544.97 Q1269.4 1540.93 1266.73 1538.73 Q1264.08 1536.5 1259.28 1536.5 Q1256.22 1536.5 1253.33 1537.23 Q1250.43 1537.97 1247.76 1539.43 L1247.76 1534.02 Q1250.97 1532.78 1253.99 1532.17 Q1257.02 1531.54 1259.88 1531.54 Q1267.62 1531.54 1271.44 1535.55 Q1275.26 1539.56 1275.26 1547.71 Z\" fill=\"#000000\" fill-rule=\"nonzero\" fill-opacity=\"1\" /><path clip-path=\"url(#clip860)\" d=\"M1287.32 1518.52 L1293.18 1518.52 L1293.18 1568.04 L1287.32 1568.04 L1287.32 1518.52 Z\" fill=\"#000000\" fill-rule=\"nonzero\" fill-opacity=\"1\" /><path clip-path=\"url(#clip860)\" d=\"M1304.83 1553.98 L1304.83 1532.4 L1310.68 1532.4 L1310.68 1553.75 Q1310.68 1558.81 1312.65 1561.36 Q1314.63 1563.87 1318.58 1563.87 Q1323.32 1563.87 1326.05 1560.85 Q1328.82 1557.83 1328.82 1552.61 L1328.82 1532.4 L1334.68 1532.4 L1334.68 1568.04 L1328.82 1568.04 L1328.82 1562.57 Q1326.69 1565.82 1323.86 1567.41 Q1321.06 1568.97 1317.33 1568.97 Q1311.19 1568.97 1308.01 1565.15 Q1304.83 1561.33 1304.83 1553.98 M1319.56 1531.54 L1319.56 1531.54 Z\" fill=\"#000000\" fill-rule=\"nonzero\" fill-opacity=\"1\" /><path clip-path=\"url(#clip860)\" d=\"M1377.24 1548.76 L1377.24 1551.62 L1350.31 1551.62 Q1350.69 1557.67 1353.94 1560.85 Q1357.21 1564 1363.04 1564 Q1366.41 1564 1369.56 1563.17 Q1372.75 1562.35 1375.87 1560.69 L1375.87 1566.23 Q1372.72 1567.57 1369.41 1568.27 Q1366.1 1568.97 1362.69 1568.97 Q1354.16 1568.97 1349.16 1564 Q1344.2 1559.04 1344.2 1550.57 Q1344.2 1541.82 1348.91 1536.69 Q1353.65 1531.54 1361.67 1531.54 Q1368.86 1531.54 1373.03 1536.18 Q1377.24 1540.8 1377.24 1548.76 M1371.38 1547.04 Q1371.31 1542.23 1368.67 1539.37 Q1366.06 1536.5 1361.73 1536.5 Q1356.83 1536.5 1353.87 1539.27 Q1350.94 1542.04 1350.5 1547.07 L1371.38 1547.04 Z\" fill=\"#000000\" fill-rule=\"nonzero\" fill-opacity=\"1\" /><path clip-path=\"url(#clip860)\" d=\"M1409.57 1533.45 L1409.57 1538.98 Q1407.09 1537.71 1404.42 1537.07 Q1401.74 1536.44 1398.88 1536.44 Q1394.52 1536.44 1392.32 1537.77 Q1390.16 1539.11 1390.16 1541.79 Q1390.16 1543.82 1391.72 1545 Q1393.28 1546.15 1397.99 1547.2 L1399.99 1547.64 Q1406.23 1548.98 1408.84 1551.43 Q1411.48 1553.85 1411.48 1558.21 Q1411.48 1563.17 1407.54 1566.07 Q1403.62 1568.97 1396.75 1568.97 Q1393.88 1568.97 1390.76 1568.39 Q1387.67 1567.85 1384.24 1566.74 L1384.24 1560.69 Q1387.48 1562.38 1390.63 1563.24 Q1393.79 1564.07 1396.87 1564.07 Q1401.01 1564.07 1403.24 1562.66 Q1405.47 1561.23 1405.47 1558.65 Q1405.47 1556.27 1403.84 1554.99 Q1402.25 1553.72 1396.81 1552.54 L1394.77 1552.07 Q1389.33 1550.92 1386.91 1548.56 Q1384.49 1546.18 1384.49 1542.04 Q1384.49 1537.01 1388.06 1534.27 Q1391.62 1531.54 1398.18 1531.54 Q1401.42 1531.54 1404.29 1532.01 Q1407.15 1532.49 1409.57 1533.45 Z\" fill=\"#000000\" fill-rule=\"nonzero\" fill-opacity=\"1\" /><polyline clip-path=\"url(#clip862)\" style=\"stroke:#000000; stroke-linecap:round; stroke-linejoin:round; stroke-width:2; stroke-opacity:0.1; fill:none\" points=\"203.964,1386.4 2352.76,1386.4 \"/>\n",
              "<polyline clip-path=\"url(#clip862)\" style=\"stroke:#000000; stroke-linecap:round; stroke-linejoin:round; stroke-width:2; stroke-opacity:0.1; fill:none\" points=\"203.964,1141.17 2352.76,1141.17 \"/>\n",
              "<polyline clip-path=\"url(#clip862)\" style=\"stroke:#000000; stroke-linecap:round; stroke-linejoin:round; stroke-width:2; stroke-opacity:0.1; fill:none\" points=\"203.964,895.94 2352.76,895.94 \"/>\n",
              "<polyline clip-path=\"url(#clip862)\" style=\"stroke:#000000; stroke-linecap:round; stroke-linejoin:round; stroke-width:2; stroke-opacity:0.1; fill:none\" points=\"203.964,650.712 2352.76,650.712 \"/>\n",
              "<polyline clip-path=\"url(#clip862)\" style=\"stroke:#000000; stroke-linecap:round; stroke-linejoin:round; stroke-width:2; stroke-opacity:0.1; fill:none\" points=\"203.964,405.484 2352.76,405.484 \"/>\n",
              "<polyline clip-path=\"url(#clip862)\" style=\"stroke:#000000; stroke-linecap:round; stroke-linejoin:round; stroke-width:2; stroke-opacity:0.1; fill:none\" points=\"203.964,160.256 2352.76,160.256 \"/>\n",
              "<polyline clip-path=\"url(#clip860)\" style=\"stroke:#000000; stroke-linecap:round; stroke-linejoin:round; stroke-width:4; stroke-opacity:1; fill:none\" points=\"203.964,1423.18 203.964,123.472 \"/>\n",
              "<polyline clip-path=\"url(#clip860)\" style=\"stroke:#000000; stroke-linecap:round; stroke-linejoin:round; stroke-width:4; stroke-opacity:1; fill:none\" points=\"203.964,1386.4 222.861,1386.4 \"/>\n",
              "<polyline clip-path=\"url(#clip860)\" style=\"stroke:#000000; stroke-linecap:round; stroke-linejoin:round; stroke-width:4; stroke-opacity:1; fill:none\" points=\"203.964,1141.17 222.861,1141.17 \"/>\n",
              "<polyline clip-path=\"url(#clip860)\" style=\"stroke:#000000; stroke-linecap:round; stroke-linejoin:round; stroke-width:4; stroke-opacity:1; fill:none\" points=\"203.964,895.94 222.861,895.94 \"/>\n",
              "<polyline clip-path=\"url(#clip860)\" style=\"stroke:#000000; stroke-linecap:round; stroke-linejoin:round; stroke-width:4; stroke-opacity:1; fill:none\" points=\"203.964,650.712 222.861,650.712 \"/>\n",
              "<polyline clip-path=\"url(#clip860)\" style=\"stroke:#000000; stroke-linecap:round; stroke-linejoin:round; stroke-width:4; stroke-opacity:1; fill:none\" points=\"203.964,405.484 222.861,405.484 \"/>\n",
              "<polyline clip-path=\"url(#clip860)\" style=\"stroke:#000000; stroke-linecap:round; stroke-linejoin:round; stroke-width:4; stroke-opacity:1; fill:none\" points=\"203.964,160.256 222.861,160.256 \"/>\n",
              "<path clip-path=\"url(#clip860)\" d=\"M156.019 1372.19 Q152.408 1372.19 150.579 1375.76 Q148.774 1379.3 148.774 1386.43 Q148.774 1393.54 150.579 1397.1 Q152.408 1400.64 156.019 1400.64 Q159.653 1400.64 161.459 1397.1 Q163.288 1393.54 163.288 1386.43 Q163.288 1379.3 161.459 1375.76 Q159.653 1372.19 156.019 1372.19 M156.019 1368.49 Q161.829 1368.49 164.885 1373.1 Q167.964 1377.68 167.964 1386.43 Q167.964 1395.16 164.885 1399.76 Q161.829 1404.35 156.019 1404.35 Q150.209 1404.35 147.13 1399.76 Q144.075 1395.16 144.075 1386.43 Q144.075 1377.68 147.13 1373.1 Q150.209 1368.49 156.019 1368.49 Z\" fill=\"#000000\" fill-rule=\"nonzero\" fill-opacity=\"1\" /><path clip-path=\"url(#clip860)\" d=\"M147.061 1123.89 L165.417 1123.89 L165.417 1127.82 L151.343 1127.82 L151.343 1136.3 Q152.362 1135.95 153.38 1135.79 Q154.399 1135.6 155.417 1135.6 Q161.204 1135.6 164.584 1138.77 Q167.964 1141.94 167.964 1147.36 Q167.964 1152.94 164.491 1156.04 Q161.019 1159.12 154.7 1159.12 Q152.524 1159.12 150.255 1158.75 Q148.01 1158.38 145.603 1157.64 L145.603 1152.94 Q147.686 1154.07 149.908 1154.63 Q152.13 1155.18 154.607 1155.18 Q158.612 1155.18 160.95 1153.08 Q163.288 1150.97 163.288 1147.36 Q163.288 1143.75 160.95 1141.64 Q158.612 1139.54 154.607 1139.54 Q152.732 1139.54 150.857 1139.95 Q149.005 1140.37 147.061 1141.25 L147.061 1123.89 Z\" fill=\"#000000\" fill-rule=\"nonzero\" fill-opacity=\"1\" /><path clip-path=\"url(#clip860)\" d=\"M116.668 909.285 L124.306 909.285 L124.306 882.919 L115.996 884.586 L115.996 880.327 L124.26 878.66 L128.936 878.66 L128.936 909.285 L136.575 909.285 L136.575 913.22 L116.668 913.22 L116.668 909.285 Z\" fill=\"#000000\" fill-rule=\"nonzero\" fill-opacity=\"1\" /><path clip-path=\"url(#clip860)\" d=\"M156.019 881.739 Q152.408 881.739 150.579 885.303 Q148.774 888.845 148.774 895.975 Q148.774 903.081 150.579 906.646 Q152.408 910.188 156.019 910.188 Q159.653 910.188 161.459 906.646 Q163.288 903.081 163.288 895.975 Q163.288 888.845 161.459 885.303 Q159.653 881.739 156.019 881.739 M156.019 878.035 Q161.829 878.035 164.885 882.641 Q167.964 887.225 167.964 895.975 Q167.964 904.701 164.885 909.308 Q161.829 913.891 156.019 913.891 Q150.209 913.891 147.13 909.308 Q144.075 904.701 144.075 895.975 Q144.075 887.225 147.13 882.641 Q150.209 878.035 156.019 878.035 Z\" fill=\"#000000\" fill-rule=\"nonzero\" fill-opacity=\"1\" /><path clip-path=\"url(#clip860)\" d=\"M117.663 664.057 L125.302 664.057 L125.302 637.691 L116.992 639.358 L116.992 635.099 L125.255 633.432 L129.931 633.432 L129.931 664.057 L137.57 664.057 L137.57 667.992 L117.663 667.992 L117.663 664.057 Z\" fill=\"#000000\" fill-rule=\"nonzero\" fill-opacity=\"1\" /><path clip-path=\"url(#clip860)\" d=\"M147.061 633.432 L165.417 633.432 L165.417 637.367 L151.343 637.367 L151.343 645.839 Q152.362 645.492 153.38 645.33 Q154.399 645.145 155.417 645.145 Q161.204 645.145 164.584 648.316 Q167.964 651.488 167.964 656.904 Q167.964 662.483 164.491 665.585 Q161.019 668.663 154.7 668.663 Q152.524 668.663 150.255 668.293 Q148.01 667.923 145.603 667.182 L145.603 662.483 Q147.686 663.617 149.908 664.173 Q152.13 664.728 154.607 664.728 Q158.612 664.728 160.95 662.622 Q163.288 660.515 163.288 656.904 Q163.288 653.293 160.95 651.187 Q158.612 649.08 154.607 649.08 Q152.732 649.08 150.857 649.497 Q149.005 649.913 147.061 650.793 L147.061 633.432 Z\" fill=\"#000000\" fill-rule=\"nonzero\" fill-opacity=\"1\" /><path clip-path=\"url(#clip860)\" d=\"M119.885 418.829 L136.204 418.829 L136.204 422.764 L114.26 422.764 L114.26 418.829 Q116.922 416.074 121.505 411.445 Q126.112 406.792 127.292 405.449 Q129.538 402.926 130.417 401.19 Q131.32 399.431 131.32 397.741 Q131.32 394.987 129.376 393.25 Q127.455 391.514 124.353 391.514 Q122.154 391.514 119.7 392.278 Q117.269 393.042 114.492 394.593 L114.492 389.871 Q117.316 388.737 119.769 388.158 Q122.223 387.579 124.26 387.579 Q129.63 387.579 132.825 390.264 Q136.019 392.95 136.019 397.44 Q136.019 399.57 135.209 401.491 Q134.422 403.389 132.316 405.982 Q131.737 406.653 128.635 409.871 Q125.533 413.065 119.885 418.829 Z\" fill=\"#000000\" fill-rule=\"nonzero\" fill-opacity=\"1\" /><path clip-path=\"url(#clip860)\" d=\"M156.019 391.283 Q152.408 391.283 150.579 394.848 Q148.774 398.389 148.774 405.519 Q148.774 412.625 150.579 416.19 Q152.408 419.732 156.019 419.732 Q159.653 419.732 161.459 416.19 Q163.288 412.625 163.288 405.519 Q163.288 398.389 161.459 394.848 Q159.653 391.283 156.019 391.283 M156.019 387.579 Q161.829 387.579 164.885 392.186 Q167.964 396.769 167.964 405.519 Q167.964 414.246 164.885 418.852 Q161.829 423.435 156.019 423.435 Q150.209 423.435 147.13 418.852 Q144.075 414.246 144.075 405.519 Q144.075 396.769 147.13 392.186 Q150.209 387.579 156.019 387.579 Z\" fill=\"#000000\" fill-rule=\"nonzero\" fill-opacity=\"1\" /><path clip-path=\"url(#clip860)\" d=\"M120.88 173.601 L137.2 173.601 L137.2 177.536 L115.256 177.536 L115.256 173.601 Q117.918 170.847 122.501 166.217 Q127.107 161.564 128.288 160.222 Q130.533 157.698 131.413 155.962 Q132.316 154.203 132.316 152.513 Q132.316 149.759 130.371 148.023 Q128.45 146.286 125.348 146.286 Q123.149 146.286 120.695 147.05 Q118.265 147.814 115.487 149.365 L115.487 144.643 Q118.311 143.509 120.765 142.93 Q123.218 142.351 125.255 142.351 Q130.626 142.351 133.82 145.036 Q137.015 147.722 137.015 152.212 Q137.015 154.342 136.204 156.263 Q135.417 158.161 133.311 160.754 Q132.732 161.425 129.63 164.643 Q126.529 167.837 120.88 173.601 Z\" fill=\"#000000\" fill-rule=\"nonzero\" fill-opacity=\"1\" /><path clip-path=\"url(#clip860)\" d=\"M147.061 142.976 L165.417 142.976 L165.417 146.911 L151.343 146.911 L151.343 155.384 Q152.362 155.036 153.38 154.874 Q154.399 154.689 155.417 154.689 Q161.204 154.689 164.584 157.86 Q167.964 161.032 167.964 166.448 Q167.964 172.027 164.491 175.129 Q161.019 178.208 154.7 178.208 Q152.524 178.208 150.255 177.837 Q148.01 177.467 145.603 176.726 L145.603 172.027 Q147.686 173.161 149.908 173.717 Q152.13 174.272 154.607 174.272 Q158.612 174.272 160.95 172.166 Q163.288 170.059 163.288 166.448 Q163.288 162.837 160.95 160.731 Q158.612 158.624 154.607 158.624 Q152.732 158.624 150.857 159.041 Q149.005 159.458 147.061 160.337 L147.061 142.976 Z\" fill=\"#000000\" fill-rule=\"nonzero\" fill-opacity=\"1\" /><path clip-path=\"url(#clip860)\" d=\"M28.3562 1013.27 L45.7028 1026.16 L64.0042 1012.6 L64.0042 1019.5 L49.9996 1029.88 L64.0042 1040.26 L64.0042 1047.16 L45.3526 1033.32 L28.3562 1045.99 L28.3562 1039.08 L41.0558 1029.63 L28.3562 1020.17 L28.3562 1013.27 Z\" fill=\"#000000\" fill-rule=\"nonzero\" fill-opacity=\"1\" /><path clip-path=\"url(#clip860)\" d=\"M28.3562 987.803 L28.3562 981.596 L58.275 970.456 L28.3562 959.316 L28.3562 953.109 L64.0042 966.477 L64.0042 974.435 L28.3562 987.803 Z\" fill=\"#000000\" fill-rule=\"nonzero\" fill-opacity=\"1\" /><path clip-path=\"url(#clip860)\" d=\"M46.0847 928.824 Q46.0847 935.922 47.7079 938.659 Q49.3312 941.397 53.2461 941.397 Q56.3653 941.397 58.2114 939.36 Q60.0256 937.291 60.0256 933.758 Q60.0256 928.888 56.5881 925.96 Q53.1188 923 47.3897 923 L46.0847 923 L46.0847 928.824 M43.6657 917.143 L64.0042 917.143 L64.0042 923 L58.5933 923 Q61.8398 925.005 63.3994 927.997 Q64.9272 930.989 64.9272 935.317 Q64.9272 940.792 61.8716 944.038 Q58.7843 947.253 53.6281 947.253 Q47.6125 947.253 44.5569 943.243 Q41.5014 939.2 41.5014 931.211 L41.5014 923 L40.9285 923 Q36.8862 923 34.6901 925.673 Q32.4621 928.315 32.4621 933.121 Q32.4621 936.177 33.1941 939.073 Q33.9262 941.969 35.3903 944.643 L29.9795 944.643 Q28.7381 941.428 28.1334 938.405 Q27.4968 935.381 27.4968 932.516 Q27.4968 924.782 31.5072 920.963 Q35.5176 917.143 43.6657 917.143 Z\" fill=\"#000000\" fill-rule=\"nonzero\" fill-opacity=\"1\" /><path clip-path=\"url(#clip860)\" d=\"M14.479 905.08 L14.479 899.224 L64.0042 899.224 L64.0042 905.08 L14.479 905.08 Z\" fill=\"#000000\" fill-rule=\"nonzero\" fill-opacity=\"1\" /><path clip-path=\"url(#clip860)\" d=\"M49.9359 887.575 L28.3562 887.575 L28.3562 881.718 L49.7131 881.718 Q54.7739 881.718 57.3202 879.745 Q59.8346 877.771 59.8346 873.825 Q59.8346 869.082 56.8109 866.345 Q53.7872 863.576 48.5673 863.576 L28.3562 863.576 L28.3562 857.719 L64.0042 857.719 L64.0042 863.576 L58.5296 863.576 Q61.7762 865.708 63.3676 868.541 Q64.9272 871.342 64.9272 875.066 Q64.9272 881.209 61.1078 884.392 Q57.2883 887.575 49.9359 887.575 M27.4968 872.838 L27.4968 872.838 Z\" fill=\"#000000\" fill-rule=\"nonzero\" fill-opacity=\"1\" /><path clip-path=\"url(#clip860)\" d=\"M44.7161 815.165 L47.5806 815.165 L47.5806 842.092 Q53.6281 841.71 56.8109 838.463 Q59.9619 835.185 59.9619 829.36 Q59.9619 825.986 59.1344 822.835 Q58.3069 819.652 56.6518 816.533 L62.1899 816.533 Q63.5267 819.684 64.227 822.994 Q64.9272 826.305 64.9272 829.71 Q64.9272 838.24 59.9619 843.237 Q54.9967 848.203 46.5303 848.203 Q37.7774 848.203 32.6531 843.492 Q27.4968 838.75 27.4968 830.729 Q27.4968 823.535 32.1438 819.366 Q36.7589 815.165 44.7161 815.165 M42.9973 821.021 Q38.1912 821.085 35.3266 823.726 Q32.4621 826.336 32.4621 830.665 Q32.4621 835.567 35.2312 838.527 Q38.0002 841.455 43.0292 841.901 L42.9973 821.021 Z\" fill=\"#000000\" fill-rule=\"nonzero\" fill-opacity=\"1\" /><path clip-path=\"url(#clip860)\" d=\"M29.4065 782.827 L34.9447 782.827 Q33.6716 785.309 33.035 787.983 Q32.3984 790.657 32.3984 793.521 Q32.3984 797.882 33.7352 800.078 Q35.072 802.242 37.7456 802.242 Q39.7826 802.242 40.9603 800.683 Q42.1061 799.123 43.1565 794.412 L43.6021 792.407 Q44.9389 786.169 47.3897 783.559 Q49.8086 780.917 54.1691 780.917 Q59.1344 780.917 62.0308 784.864 Q64.9272 788.779 64.9272 795.654 Q64.9272 798.518 64.3543 801.637 Q63.8132 804.725 62.6992 808.162 L56.6518 808.162 Q58.3387 804.916 59.198 801.765 Q60.0256 798.614 60.0256 795.526 Q60.0256 791.389 58.6251 789.161 Q57.1929 786.933 54.6147 786.933 Q52.2276 786.933 50.9545 788.556 Q49.6813 790.147 48.5037 795.59 L48.0262 797.627 Q46.8804 803.07 44.5251 805.489 Q42.138 807.908 38.0002 807.908 Q32.9713 807.908 30.2341 804.343 Q27.4968 800.778 27.4968 794.221 Q27.4968 790.975 27.9743 788.11 Q28.4517 785.246 29.4065 782.827 Z\" fill=\"#000000\" fill-rule=\"nonzero\" fill-opacity=\"1\" /><path clip-path=\"url(#clip860)\" d=\"M29.4065 728.145 L34.9447 728.145 Q33.6716 730.628 33.035 733.302 Q32.3984 735.975 32.3984 738.84 Q32.3984 743.2 33.7352 745.396 Q35.072 747.561 37.7456 747.561 Q39.7826 747.561 40.9603 746.001 Q42.1061 744.442 43.1565 739.731 L43.6021 737.726 Q44.9389 731.487 47.3897 728.877 Q49.8086 726.236 54.1691 726.236 Q59.1344 726.236 62.0308 730.182 Q64.9272 734.097 64.9272 740.972 Q64.9272 743.837 64.3543 746.956 Q63.8132 750.043 62.6992 753.481 L56.6518 753.481 Q58.3387 750.234 59.198 747.083 Q60.0256 743.932 60.0256 740.845 Q60.0256 736.707 58.6251 734.479 Q57.1929 732.251 54.6147 732.251 Q52.2276 732.251 50.9545 733.875 Q49.6813 735.466 48.5037 740.909 L48.0262 742.946 Q46.8804 748.388 44.5251 750.807 Q42.138 753.226 38.0002 753.226 Q32.9713 753.226 30.2341 749.661 Q27.4968 746.097 27.4968 739.54 Q27.4968 736.293 27.9743 733.429 Q28.4517 730.564 29.4065 728.145 Z\" fill=\"#000000\" fill-rule=\"nonzero\" fill-opacity=\"1\" /><path clip-path=\"url(#clip860)\" d=\"M46.212 713.409 Q52.6732 713.409 56.3653 710.767 Q60.0256 708.093 60.0256 703.446 Q60.0256 698.799 56.3653 696.126 Q52.6732 693.452 46.212 693.452 Q39.7508 693.452 36.0905 696.126 Q32.3984 698.799 32.3984 703.446 Q32.3984 708.093 36.0905 710.767 Q39.7508 713.409 46.212 713.409 M58.657 693.452 Q61.8398 695.298 63.3994 698.131 Q64.9272 700.932 64.9272 704.879 Q64.9272 711.34 59.771 715.414 Q54.6147 719.456 46.212 719.456 Q37.8093 719.456 32.6531 715.414 Q27.4968 711.34 27.4968 704.879 Q27.4968 700.932 29.0564 698.131 Q30.5842 695.298 33.7671 693.452 L28.3562 693.452 L28.3562 687.596 L77.5631 687.596 L77.5631 693.452 L58.657 693.452 Z\" fill=\"#000000\" fill-rule=\"nonzero\" fill-opacity=\"1\" /><path clip-path=\"url(#clip860)\" d=\"M49.9359 676.138 L28.3562 676.138 L28.3562 670.281 L49.7131 670.281 Q54.7739 670.281 57.3202 668.308 Q59.8346 666.334 59.8346 662.388 Q59.8346 657.645 56.8109 654.908 Q53.7872 652.139 48.5673 652.139 L28.3562 652.139 L28.3562 646.282 L64.0042 646.282 L64.0042 652.139 L58.5296 652.139 Q61.7762 654.271 63.3676 657.104 Q64.9272 659.905 64.9272 663.629 Q64.9272 669.772 61.1078 672.955 Q57.2883 676.138 49.9359 676.138 M27.4968 661.401 L27.4968 661.401 Z\" fill=\"#000000\" fill-rule=\"nonzero\" fill-opacity=\"1\" /><path clip-path=\"url(#clip860)\" d=\"M46.0847 618.019 Q46.0847 625.116 47.7079 627.854 Q49.3312 630.591 53.2461 630.591 Q56.3653 630.591 58.2114 628.554 Q60.0256 626.485 60.0256 622.952 Q60.0256 618.082 56.5881 615.154 Q53.1188 612.194 47.3897 612.194 L46.0847 612.194 L46.0847 618.019 M43.6657 606.338 L64.0042 606.338 L64.0042 612.194 L58.5933 612.194 Q61.8398 614.199 63.3994 617.191 Q64.9272 620.183 64.9272 624.512 Q64.9272 629.986 61.8716 633.233 Q58.7843 636.447 53.6281 636.447 Q47.6125 636.447 44.5569 632.437 Q41.5014 628.395 41.5014 620.406 L41.5014 612.194 L40.9285 612.194 Q36.8862 612.194 34.6901 614.868 Q32.4621 617.509 32.4621 622.316 Q32.4621 625.371 33.1941 628.267 Q33.9262 631.164 35.3903 633.837 L29.9795 633.837 Q28.7381 630.623 28.1334 627.599 Q27.4968 624.575 27.4968 621.711 Q27.4968 613.976 31.5072 610.157 Q35.5176 606.338 43.6657 606.338 Z\" fill=\"#000000\" fill-rule=\"nonzero\" fill-opacity=\"1\" /><path clip-path=\"url(#clip860)\" d=\"M33.8307 573.618 Q33.2578 574.605 33.0032 575.782 Q32.7167 576.928 32.7167 578.328 Q32.7167 583.294 35.9632 585.967 Q39.1779 588.609 45.2253 588.609 L64.0042 588.609 L64.0042 594.497 L28.3562 594.497 L28.3562 588.609 L33.8944 588.609 Q30.6479 586.763 29.0883 583.803 Q27.4968 580.843 27.4968 576.61 Q27.4968 576.005 27.5923 575.273 Q27.656 574.541 27.8151 573.65 L33.8307 573.618 Z\" fill=\"#000000\" fill-rule=\"nonzero\" fill-opacity=\"1\" /><path clip-path=\"url(#clip860)\" d=\"M44.7161 538.415 L47.5806 538.415 L47.5806 565.342 Q53.6281 564.96 56.8109 561.714 Q59.9619 558.436 59.9619 552.611 Q59.9619 549.237 59.1344 546.086 Q58.3069 542.903 56.6518 539.784 L62.1899 539.784 Q63.5267 542.935 64.227 546.245 Q64.9272 549.555 64.9272 552.961 Q64.9272 561.491 59.9619 566.488 Q54.9967 571.454 46.5303 571.454 Q37.7774 571.454 32.6531 566.743 Q27.4968 562 27.4968 553.98 Q27.4968 546.786 32.1438 542.617 Q36.7589 538.415 44.7161 538.415 M42.9973 544.272 Q38.1912 544.336 35.3266 546.977 Q32.4621 549.587 32.4621 553.916 Q32.4621 558.818 35.2312 561.778 Q38.0002 564.706 43.0292 565.151 L42.9973 544.272 Z\" fill=\"#000000\" fill-rule=\"nonzero\" fill-opacity=\"1\" /><path clip-path=\"url(#clip860)\" d=\"M33.7671 505.346 L14.479 505.346 L14.479 499.489 L64.0042 499.489 L64.0042 505.346 L58.657 505.346 Q61.8398 507.192 63.3994 510.024 Q64.9272 512.825 64.9272 516.772 Q64.9272 523.233 59.771 527.307 Q54.6147 531.35 46.212 531.35 Q37.8093 531.35 32.6531 527.307 Q27.4968 523.233 27.4968 516.772 Q27.4968 512.825 29.0564 510.024 Q30.5842 507.192 33.7671 505.346 M46.212 525.302 Q52.6732 525.302 56.3653 522.66 Q60.0256 519.987 60.0256 515.34 Q60.0256 510.693 56.3653 508.019 Q52.6732 505.346 46.212 505.346 Q39.7508 505.346 36.0905 508.019 Q32.3984 510.693 32.3984 515.34 Q32.3984 519.987 36.0905 522.66 Q39.7508 525.302 46.212 525.302 Z\" fill=\"#000000\" fill-rule=\"nonzero\" fill-opacity=\"1\" /><path clip-path=\"url(#clip860)\" d=\"M999.131 28.5427 L999.131 35.5912 Q995.971 33.9709 992.568 33.1607 Q989.166 32.3505 985.52 32.3505 Q979.97 32.3505 977.175 34.0519 Q974.42 35.7533 974.42 39.156 Q974.42 41.7486 976.405 43.2475 Q978.39 44.7058 984.386 46.0426 L986.938 46.6097 Q994.877 48.3111 998.199 51.4303 Q1001.56 54.509 1001.56 60.0587 Q1001.56 66.3781 996.538 70.0644 Q991.556 73.7508 982.806 73.7508 Q979.16 73.7508 975.19 73.0216 Q971.261 72.3329 966.886 70.9151 L966.886 63.2184 Q971.018 65.3654 975.028 66.4591 Q979.038 67.5124 982.968 67.5124 Q988.234 67.5124 991.07 65.73 Q993.905 63.9071 993.905 60.6258 Q993.905 57.5877 991.839 55.9673 Q989.814 54.3469 982.887 52.8481 L980.294 52.2405 Q973.367 50.7821 970.288 47.7845 Q967.21 44.7463 967.21 39.4801 Q967.21 33.0797 971.747 29.5959 Q976.284 26.1121 984.629 26.1121 Q988.761 26.1121 992.406 26.7198 Q996.052 27.3274 999.131 28.5427 Z\" fill=\"#000000\" fill-rule=\"nonzero\" fill-opacity=\"1\" /><path clip-path=\"url(#clip860)\" d=\"M1017.89 49.9314 Q1017.89 58.1548 1021.25 62.8538 Q1024.65 67.5124 1030.57 67.5124 Q1036.48 67.5124 1039.88 62.8538 Q1043.29 58.1548 1043.29 49.9314 Q1043.29 41.7081 1039.88 37.0496 Q1036.48 32.3505 1030.57 32.3505 Q1024.65 32.3505 1021.25 37.0496 Q1017.89 41.7081 1017.89 49.9314 M1043.29 65.7705 Q1040.94 69.8214 1037.33 71.8063 Q1033.77 73.7508 1028.74 73.7508 Q1020.52 73.7508 1015.33 67.1883 Q1010.19 60.6258 1010.19 49.9314 Q1010.19 39.2371 1015.33 32.6746 Q1020.52 26.1121 1028.74 26.1121 Q1033.77 26.1121 1037.33 28.0971 Q1040.94 30.0415 1043.29 34.0924 L1043.29 27.2059 L1050.74 27.2059 L1050.74 89.8329 L1043.29 89.8329 L1043.29 65.7705 Z\" fill=\"#000000\" fill-rule=\"nonzero\" fill-opacity=\"1\" /><path clip-path=\"url(#clip860)\" d=\"M1065.32 54.671 L1065.32 27.2059 L1072.78 27.2059 L1072.78 54.3874 Q1072.78 60.8284 1075.29 64.0691 Q1077.8 67.2693 1082.82 67.2693 Q1088.86 67.2693 1092.34 63.421 Q1095.87 59.5726 1095.87 52.9291 L1095.87 27.2059 L1103.32 27.2059 L1103.32 72.576 L1095.87 72.576 L1095.87 65.6084 Q1093.15 69.7404 1089.55 71.7658 Q1085.98 73.7508 1081.24 73.7508 Q1073.42 73.7508 1069.37 68.8897 Q1065.32 64.0286 1065.32 54.671 M1084.08 26.1121 L1084.08 26.1121 Z\" fill=\"#000000\" fill-rule=\"nonzero\" fill-opacity=\"1\" /><path clip-path=\"url(#clip860)\" d=\"M1139.29 49.7694 Q1130.26 49.7694 1126.77 51.8354 Q1123.29 53.9013 1123.29 58.8839 Q1123.29 62.8538 1125.88 65.2034 Q1128.52 67.5124 1133.01 67.5124 Q1139.21 67.5124 1142.94 63.1374 Q1146.71 58.7219 1146.71 51.4303 L1146.71 49.7694 L1139.29 49.7694 M1154.16 46.6907 L1154.16 72.576 L1146.71 72.576 L1146.71 65.6895 Q1144.15 69.8214 1140.35 71.8063 Q1136.54 73.7508 1131.03 73.7508 Q1124.06 73.7508 1119.93 69.8619 Q1115.84 65.9325 1115.84 59.3701 Q1115.84 51.7138 1120.94 47.825 Q1126.09 43.9361 1136.25 43.9361 L1146.71 43.9361 L1146.71 43.2069 Q1146.71 38.0623 1143.3 35.2672 Q1139.94 32.4315 1133.82 32.4315 Q1129.93 32.4315 1126.25 33.3632 Q1122.56 34.295 1119.16 36.1584 L1119.16 29.2718 Q1123.25 27.692 1127.1 26.9223 Q1130.95 26.1121 1134.59 26.1121 Q1144.44 26.1121 1149.3 31.2163 Q1154.16 36.3204 1154.16 46.6907 Z\" fill=\"#000000\" fill-rule=\"nonzero\" fill-opacity=\"1\" /><path clip-path=\"url(#clip860)\" d=\"M1195.8 34.1734 Q1194.55 33.4443 1193.05 33.1202 Q1191.59 32.7556 1189.81 32.7556 Q1183.49 32.7556 1180.08 36.8875 Q1176.72 40.9789 1176.72 48.6757 L1176.72 72.576 L1169.23 72.576 L1169.23 27.2059 L1176.72 27.2059 L1176.72 34.2544 Q1179.07 30.1225 1182.84 28.1376 Q1186.61 26.1121 1191.99 26.1121 Q1192.76 26.1121 1193.7 26.2337 Q1194.63 26.3147 1195.76 26.5172 L1195.8 34.1734 Z\" fill=\"#000000\" fill-rule=\"nonzero\" fill-opacity=\"1\" /><path clip-path=\"url(#clip860)\" d=\"M1240.61 48.0275 L1240.61 51.6733 L1206.33 51.6733 Q1206.82 59.3701 1210.95 63.421 Q1215.13 67.4314 1222.54 67.4314 Q1226.83 67.4314 1230.84 66.3781 Q1234.89 65.3249 1238.86 63.2184 L1238.86 70.267 Q1234.85 71.9684 1230.64 72.8596 Q1226.43 73.7508 1222.09 73.7508 Q1211.24 73.7508 1204.88 67.4314 Q1198.56 61.1119 1198.56 50.3365 Q1198.56 39.1965 1204.55 32.6746 Q1210.59 26.1121 1220.8 26.1121 Q1229.95 26.1121 1235.26 32.0264 Q1240.61 37.9003 1240.61 48.0275 M1233.15 45.84 Q1233.07 39.7232 1229.71 36.0774 Q1226.39 32.4315 1220.88 32.4315 Q1214.64 32.4315 1210.87 35.9558 Q1207.14 39.4801 1206.58 45.8805 L1233.15 45.84 Z\" fill=\"#000000\" fill-rule=\"nonzero\" fill-opacity=\"1\" /><path clip-path=\"url(#clip860)\" d=\"M1282.69 34.0924 L1282.69 9.54393 L1290.15 9.54393 L1290.15 72.576 L1282.69 72.576 L1282.69 65.7705 Q1280.34 69.8214 1276.74 71.8063 Q1273.17 73.7508 1268.15 73.7508 Q1259.93 73.7508 1254.74 67.1883 Q1249.6 60.6258 1249.6 49.9314 Q1249.6 39.2371 1254.74 32.6746 Q1259.93 26.1121 1268.15 26.1121 Q1273.17 26.1121 1276.74 28.0971 Q1280.34 30.0415 1282.69 34.0924 M1257.3 49.9314 Q1257.3 58.1548 1260.66 62.8538 Q1264.06 67.5124 1269.97 67.5124 Q1275.89 67.5124 1279.29 62.8538 Q1282.69 58.1548 1282.69 49.9314 Q1282.69 41.7081 1279.29 37.0496 Q1275.89 32.3505 1269.97 32.3505 Q1264.06 32.3505 1260.66 37.0496 Q1257.3 41.7081 1257.3 49.9314 Z\" fill=\"#000000\" fill-rule=\"nonzero\" fill-opacity=\"1\" /><path clip-path=\"url(#clip860)\" d=\"M1326.52 27.2059 L1334.42 27.2059 L1348.6 65.2844 L1362.78 27.2059 L1370.68 27.2059 L1353.67 72.576 L1343.54 72.576 L1326.52 27.2059 Z\" fill=\"#000000\" fill-rule=\"nonzero\" fill-opacity=\"1\" /><path clip-path=\"url(#clip860)\" d=\"M1401.59 49.7694 Q1392.55 49.7694 1389.07 51.8354 Q1385.59 53.9013 1385.59 58.8839 Q1385.59 62.8538 1388.18 65.2034 Q1390.81 67.5124 1395.31 67.5124 Q1401.51 67.5124 1405.23 63.1374 Q1409 58.7219 1409 51.4303 L1409 49.7694 L1401.59 49.7694 M1416.46 46.6907 L1416.46 72.576 L1409 72.576 L1409 65.6895 Q1406.45 69.8214 1402.64 71.8063 Q1398.83 73.7508 1393.32 73.7508 Q1386.36 73.7508 1382.22 69.8619 Q1378.13 65.9325 1378.13 59.3701 Q1378.13 51.7138 1383.24 47.825 Q1388.38 43.9361 1398.55 43.9361 L1409 43.9361 L1409 43.2069 Q1409 38.0623 1405.6 35.2672 Q1402.24 32.4315 1396.12 32.4315 Q1392.23 32.4315 1388.54 33.3632 Q1384.86 34.295 1381.46 36.1584 L1381.46 29.2718 Q1385.55 27.692 1389.4 26.9223 Q1393.24 26.1121 1396.89 26.1121 Q1406.73 26.1121 1411.59 31.2163 Q1416.46 36.3204 1416.46 46.6907 Z\" fill=\"#000000\" fill-rule=\"nonzero\" fill-opacity=\"1\" /><path clip-path=\"url(#clip860)\" d=\"M1431.81 9.54393 L1439.26 9.54393 L1439.26 72.576 L1431.81 72.576 L1431.81 9.54393 Z\" fill=\"#000000\" fill-rule=\"nonzero\" fill-opacity=\"1\" /><path clip-path=\"url(#clip860)\" d=\"M1454.09 54.671 L1454.09 27.2059 L1461.54 27.2059 L1461.54 54.3874 Q1461.54 60.8284 1464.05 64.0691 Q1466.56 67.2693 1471.59 67.2693 Q1477.62 67.2693 1481.11 63.421 Q1484.63 59.5726 1484.63 52.9291 L1484.63 27.2059 L1492.09 27.2059 L1492.09 72.576 L1484.63 72.576 L1484.63 65.6084 Q1481.92 69.7404 1478.31 71.7658 Q1474.75 73.7508 1470.01 73.7508 Q1462.19 73.7508 1458.14 68.8897 Q1454.09 64.0286 1454.09 54.671 M1472.84 26.1121 L1472.84 26.1121 Z\" fill=\"#000000\" fill-rule=\"nonzero\" fill-opacity=\"1\" /><path clip-path=\"url(#clip860)\" d=\"M1546.25 48.0275 L1546.25 51.6733 L1511.98 51.6733 Q1512.46 59.3701 1516.59 63.421 Q1520.77 67.4314 1528.18 67.4314 Q1532.47 67.4314 1536.48 66.3781 Q1540.53 65.3249 1544.5 63.2184 L1544.5 70.267 Q1540.49 71.9684 1536.28 72.8596 Q1532.07 73.7508 1527.73 73.7508 Q1516.88 73.7508 1510.52 67.4314 Q1504.2 61.1119 1504.2 50.3365 Q1504.2 39.1965 1510.19 32.6746 Q1516.23 26.1121 1526.44 26.1121 Q1535.59 26.1121 1540.9 32.0264 Q1546.25 37.9003 1546.25 48.0275 M1538.79 45.84 Q1538.71 39.7232 1535.35 36.0774 Q1532.03 32.4315 1526.52 32.4315 Q1520.28 32.4315 1516.51 35.9558 Q1512.79 39.4801 1512.22 45.8805 L1538.79 45.84 Z\" fill=\"#000000\" fill-rule=\"nonzero\" fill-opacity=\"1\" /><path clip-path=\"url(#clip860)\" d=\"M1587.4 28.5427 L1587.4 35.5912 Q1584.24 33.9709 1580.84 33.1607 Q1577.44 32.3505 1573.79 32.3505 Q1568.24 32.3505 1565.45 34.0519 Q1562.69 35.7533 1562.69 39.156 Q1562.69 41.7486 1564.68 43.2475 Q1566.66 44.7058 1572.66 46.0426 L1575.21 46.6097 Q1583.15 48.3111 1586.47 51.4303 Q1589.83 54.509 1589.83 60.0587 Q1589.83 66.3781 1584.81 70.0644 Q1579.83 73.7508 1571.08 73.7508 Q1567.43 73.7508 1563.46 73.0216 Q1559.53 72.3329 1555.16 70.9151 L1555.16 63.2184 Q1559.29 65.3654 1563.3 66.4591 Q1567.31 67.5124 1571.24 67.5124 Q1576.51 67.5124 1579.34 65.73 Q1582.18 63.9071 1582.18 60.6258 Q1582.18 57.5877 1580.11 55.9673 Q1578.09 54.3469 1571.16 52.8481 L1568.57 52.2405 Q1561.64 50.7821 1558.56 47.7845 Q1555.48 44.7463 1555.48 39.4801 Q1555.48 33.0797 1560.02 29.5959 Q1564.56 26.1121 1572.9 26.1121 Q1577.03 26.1121 1580.68 26.7198 Q1584.32 27.3274 1587.4 28.5427 Z\" fill=\"#000000\" fill-rule=\"nonzero\" fill-opacity=\"1\" /><polyline clip-path=\"url(#clip862)\" style=\"stroke:#009af9; stroke-linecap:round; stroke-linejoin:round; stroke-width:4; stroke-opacity:1; fill:none\" points=\"264.778,160.256 467.495,601.666 670.211,944.985 872.927,1190.21 1075.64,1337.35 1278.36,1386.4 1481.08,1337.35 1683.79,1190.21 1886.51,944.985 2089.22,601.666 2291.94,160.256 \"/>\n",
              "<path clip-path=\"url(#clip860)\" d=\"M2013.82 1379.86 L2281.13 1379.86 L2281.13 1276.18 L2013.82 1276.18  Z\" fill=\"#ffffff\" fill-rule=\"evenodd\" fill-opacity=\"1\"/>\n",
              "<polyline clip-path=\"url(#clip860)\" style=\"stroke:#000000; stroke-linecap:round; stroke-linejoin:round; stroke-width:4; stroke-opacity:1; fill:none\" points=\"2013.82,1379.86 2281.13,1379.86 2281.13,1276.18 2013.82,1276.18 2013.82,1379.86 \"/>\n",
              "<polyline clip-path=\"url(#clip860)\" style=\"stroke:#009af9; stroke-linecap:round; stroke-linejoin:round; stroke-width:4; stroke-opacity:1; fill:none\" points=\"2037.7,1328.02 2180.95,1328.02 \"/>\n",
              "<path clip-path=\"url(#clip860)\" d=\"M2218.67 1347.7 Q2216.86 1352.33 2215.15 1353.75 Q2213.43 1355.16 2210.56 1355.16 L2207.16 1355.16 L2207.16 1351.59 L2209.66 1351.59 Q2211.42 1351.59 2212.39 1350.76 Q2213.37 1349.93 2214.55 1346.82 L2215.31 1344.88 L2204.82 1319.37 L2209.34 1319.37 L2217.44 1339.65 L2225.54 1319.37 L2230.06 1319.37 L2218.67 1347.7 Z\" fill=\"#000000\" fill-rule=\"nonzero\" fill-opacity=\"1\" /><path clip-path=\"url(#clip860)\" d=\"M2237.35 1341.36 L2244.99 1341.36 L2244.99 1315 L2236.68 1316.66 L2236.68 1312.4 L2244.94 1310.74 L2249.62 1310.74 L2249.62 1341.36 L2257.25 1341.36 L2257.25 1345.3 L2237.35 1345.3 L2237.35 1341.36 Z\" fill=\"#000000\" fill-rule=\"nonzero\" fill-opacity=\"1\" /></svg>\n"
            ],
            "text/html": [
              "<?xml version=\"1.0\" encoding=\"utf-8\"?>\n",
              "<svg xmlns=\"http://www.w3.org/2000/svg\" xmlns:xlink=\"http://www.w3.org/1999/xlink\" width=\"600\" height=\"400\" viewBox=\"0 0 2400 1600\">\n",
              "<defs>\n",
              "  <clipPath id=\"clip910\">\n",
              "    <rect x=\"0\" y=\"0\" width=\"2400\" height=\"1600\"/>\n",
              "  </clipPath>\n",
              "</defs>\n",
              "<path clip-path=\"url(#clip910)\" d=\"M0 1600 L2400 1600 L2400 0 L0 0  Z\" fill=\"#ffffff\" fill-rule=\"evenodd\" fill-opacity=\"1\"/>\n",
              "<defs>\n",
              "  <clipPath id=\"clip911\">\n",
              "    <rect x=\"480\" y=\"0\" width=\"1681\" height=\"1600\"/>\n",
              "  </clipPath>\n",
              "</defs>\n",
              "<path clip-path=\"url(#clip910)\" d=\"M203.964 1423.18 L2352.76 1423.18 L2352.76 123.472 L203.964 123.472  Z\" fill=\"#ffffff\" fill-rule=\"evenodd\" fill-opacity=\"1\"/>\n",
              "<defs>\n",
              "  <clipPath id=\"clip912\">\n",
              "    <rect x=\"203\" y=\"123\" width=\"2150\" height=\"1301\"/>\n",
              "  </clipPath>\n",
              "</defs>\n",
              "<polyline clip-path=\"url(#clip912)\" style=\"stroke:#000000; stroke-linecap:round; stroke-linejoin:round; stroke-width:2; stroke-opacity:0.1; fill:none\" points=\"467.495,1423.18 467.495,123.472 \"/>\n",
              "<polyline clip-path=\"url(#clip912)\" style=\"stroke:#000000; stroke-linecap:round; stroke-linejoin:round; stroke-width:2; stroke-opacity:0.1; fill:none\" points=\"872.927,1423.18 872.927,123.472 \"/>\n",
              "<polyline clip-path=\"url(#clip912)\" style=\"stroke:#000000; stroke-linecap:round; stroke-linejoin:round; stroke-width:2; stroke-opacity:0.1; fill:none\" points=\"1278.36,1423.18 1278.36,123.472 \"/>\n",
              "<polyline clip-path=\"url(#clip912)\" style=\"stroke:#000000; stroke-linecap:round; stroke-linejoin:round; stroke-width:2; stroke-opacity:0.1; fill:none\" points=\"1683.79,1423.18 1683.79,123.472 \"/>\n",
              "<polyline clip-path=\"url(#clip912)\" style=\"stroke:#000000; stroke-linecap:round; stroke-linejoin:round; stroke-width:2; stroke-opacity:0.1; fill:none\" points=\"2089.22,1423.18 2089.22,123.472 \"/>\n",
              "<polyline clip-path=\"url(#clip910)\" style=\"stroke:#000000; stroke-linecap:round; stroke-linejoin:round; stroke-width:4; stroke-opacity:1; fill:none\" points=\"203.964,1423.18 2352.76,1423.18 \"/>\n",
              "<polyline clip-path=\"url(#clip910)\" style=\"stroke:#000000; stroke-linecap:round; stroke-linejoin:round; stroke-width:4; stroke-opacity:1; fill:none\" points=\"467.495,1423.18 467.495,1404.28 \"/>\n",
              "<polyline clip-path=\"url(#clip910)\" style=\"stroke:#000000; stroke-linecap:round; stroke-linejoin:round; stroke-width:4; stroke-opacity:1; fill:none\" points=\"872.927,1423.18 872.927,1404.28 \"/>\n",
              "<polyline clip-path=\"url(#clip910)\" style=\"stroke:#000000; stroke-linecap:round; stroke-linejoin:round; stroke-width:4; stroke-opacity:1; fill:none\" points=\"1278.36,1423.18 1278.36,1404.28 \"/>\n",
              "<polyline clip-path=\"url(#clip910)\" style=\"stroke:#000000; stroke-linecap:round; stroke-linejoin:round; stroke-width:4; stroke-opacity:1; fill:none\" points=\"1683.79,1423.18 1683.79,1404.28 \"/>\n",
              "<polyline clip-path=\"url(#clip910)\" style=\"stroke:#000000; stroke-linecap:round; stroke-linejoin:round; stroke-width:4; stroke-opacity:1; fill:none\" points=\"2089.22,1423.18 2089.22,1404.28 \"/>\n",
              "<path clip-path=\"url(#clip910)\" d=\"M436.395 1468.75 L466.071 1468.75 L466.071 1472.69 L436.395 1472.69 L436.395 1468.75 Z\" fill=\"#000000\" fill-rule=\"nonzero\" fill-opacity=\"1\" /><path clip-path=\"url(#clip910)\" d=\"M489.011 1455.09 L477.205 1473.54 L489.011 1473.54 L489.011 1455.09 M487.784 1451.02 L493.664 1451.02 L493.664 1473.54 L498.594 1473.54 L498.594 1477.43 L493.664 1477.43 L493.664 1485.58 L489.011 1485.58 L489.011 1477.43 L473.409 1477.43 L473.409 1472.92 L487.784 1451.02 Z\" fill=\"#000000\" fill-rule=\"nonzero\" fill-opacity=\"1\" /><path clip-path=\"url(#clip910)\" d=\"M842.87 1468.75 L872.545 1468.75 L872.545 1472.69 L842.87 1472.69 L842.87 1468.75 Z\" fill=\"#000000\" fill-rule=\"nonzero\" fill-opacity=\"1\" /><path clip-path=\"url(#clip910)\" d=\"M886.666 1481.64 L902.985 1481.64 L902.985 1485.58 L881.041 1485.58 L881.041 1481.64 Q883.703 1478.89 888.286 1474.26 Q892.892 1469.61 894.073 1468.27 Q896.318 1465.74 897.198 1464.01 Q898.101 1462.25 898.101 1460.56 Q898.101 1457.8 896.156 1456.07 Q894.235 1454.33 891.133 1454.33 Q888.934 1454.33 886.48 1455.09 Q884.05 1455.86 881.272 1457.41 L881.272 1452.69 Q884.096 1451.55 886.55 1450.97 Q889.004 1450.39 891.041 1450.39 Q896.411 1450.39 899.605 1453.08 Q902.8 1455.77 902.8 1460.26 Q902.8 1462.39 901.99 1464.31 Q901.203 1466.2 899.096 1468.8 Q898.517 1469.47 895.416 1472.69 Q892.314 1475.88 886.666 1481.64 Z\" fill=\"#000000\" fill-rule=\"nonzero\" fill-opacity=\"1\" /><path clip-path=\"url(#clip910)\" d=\"M1278.36 1454.1 Q1274.75 1454.1 1272.92 1457.66 Q1271.11 1461.2 1271.11 1468.33 Q1271.11 1475.44 1272.92 1479.01 Q1274.75 1482.55 1278.36 1482.55 Q1281.99 1482.55 1283.8 1479.01 Q1285.63 1475.44 1285.63 1468.33 Q1285.63 1461.2 1283.8 1457.66 Q1281.99 1454.1 1278.36 1454.1 M1278.36 1450.39 Q1284.17 1450.39 1287.23 1455 Q1290.3 1459.58 1290.3 1468.33 Q1290.3 1477.06 1287.23 1481.67 Q1284.17 1486.25 1278.36 1486.25 Q1272.55 1486.25 1269.47 1481.67 Q1266.42 1477.06 1266.42 1468.33 Q1266.42 1459.58 1269.47 1455 Q1272.55 1450.39 1278.36 1450.39 Z\" fill=\"#000000\" fill-rule=\"nonzero\" fill-opacity=\"1\" /><path clip-path=\"url(#clip910)\" d=\"M1678.45 1481.64 L1694.76 1481.64 L1694.76 1485.58 L1672.82 1485.58 L1672.82 1481.64 Q1675.48 1478.89 1680.07 1474.26 Q1684.67 1469.61 1685.85 1468.27 Q1688.1 1465.74 1688.98 1464.01 Q1689.88 1462.25 1689.88 1460.56 Q1689.88 1457.8 1687.94 1456.07 Q1686.01 1454.33 1682.91 1454.33 Q1680.71 1454.33 1678.26 1455.09 Q1675.83 1455.86 1673.05 1457.41 L1673.05 1452.69 Q1675.88 1451.55 1678.33 1450.97 Q1680.78 1450.39 1682.82 1450.39 Q1688.19 1450.39 1691.38 1453.08 Q1694.58 1455.77 1694.58 1460.26 Q1694.58 1462.39 1693.77 1464.31 Q1692.98 1466.2 1690.88 1468.8 Q1690.3 1469.47 1687.2 1472.69 Q1684.09 1475.88 1678.45 1481.64 Z\" fill=\"#000000\" fill-rule=\"nonzero\" fill-opacity=\"1\" /><path clip-path=\"url(#clip910)\" d=\"M2092.23 1455.09 L2080.43 1473.54 L2092.23 1473.54 L2092.23 1455.09 M2091.01 1451.02 L2096.89 1451.02 L2096.89 1473.54 L2101.82 1473.54 L2101.82 1477.43 L2096.89 1477.43 L2096.89 1485.58 L2092.23 1485.58 L2092.23 1477.43 L2076.63 1477.43 L2076.63 1472.92 L2091.01 1451.02 Z\" fill=\"#000000\" fill-rule=\"nonzero\" fill-opacity=\"1\" /><path clip-path=\"url(#clip910)\" d=\"M1179.13 1532.4 L1166.24 1549.74 L1179.8 1568.04 L1172.9 1568.04 L1162.52 1554.04 L1152.14 1568.04 L1145.24 1568.04 L1159.08 1549.39 L1146.41 1532.4 L1153.32 1532.4 L1162.77 1545.1 L1172.23 1532.4 L1179.13 1532.4 Z\" fill=\"#000000\" fill-rule=\"nonzero\" fill-opacity=\"1\" /><path clip-path=\"url(#clip910)\" d=\"M1204.6 1532.4 L1210.8 1532.4 L1221.94 1562.31 L1233.08 1532.4 L1239.29 1532.4 L1225.92 1568.04 L1217.97 1568.04 L1204.6 1532.4 Z\" fill=\"#000000\" fill-rule=\"nonzero\" fill-opacity=\"1\" /><path clip-path=\"url(#clip910)\" d=\"M1263.58 1550.12 Q1256.48 1550.12 1253.74 1551.75 Q1251 1553.37 1251 1557.29 Q1251 1560.4 1253.04 1562.25 Q1255.11 1564.07 1258.64 1564.07 Q1263.51 1564.07 1266.44 1560.63 Q1269.4 1557.16 1269.4 1551.43 L1269.4 1550.12 L1263.58 1550.12 M1275.26 1547.71 L1275.26 1568.04 L1269.4 1568.04 L1269.4 1562.63 Q1267.39 1565.88 1264.4 1567.44 Q1261.41 1568.97 1257.08 1568.97 Q1251.61 1568.97 1248.36 1565.91 Q1245.15 1562.82 1245.15 1557.67 Q1245.15 1551.65 1249.16 1548.6 Q1253.2 1545.54 1261.19 1545.54 L1269.4 1545.54 L1269.4 1544.97 Q1269.4 1540.93 1266.73 1538.73 Q1264.08 1536.5 1259.28 1536.5 Q1256.22 1536.5 1253.33 1537.23 Q1250.43 1537.97 1247.76 1539.43 L1247.76 1534.02 Q1250.97 1532.78 1253.99 1532.17 Q1257.02 1531.54 1259.88 1531.54 Q1267.62 1531.54 1271.44 1535.55 Q1275.26 1539.56 1275.26 1547.71 Z\" fill=\"#000000\" fill-rule=\"nonzero\" fill-opacity=\"1\" /><path clip-path=\"url(#clip910)\" d=\"M1287.32 1518.52 L1293.18 1518.52 L1293.18 1568.04 L1287.32 1568.04 L1287.32 1518.52 Z\" fill=\"#000000\" fill-rule=\"nonzero\" fill-opacity=\"1\" /><path clip-path=\"url(#clip910)\" d=\"M1304.83 1553.98 L1304.83 1532.4 L1310.68 1532.4 L1310.68 1553.75 Q1310.68 1558.81 1312.65 1561.36 Q1314.63 1563.87 1318.58 1563.87 Q1323.32 1563.87 1326.05 1560.85 Q1328.82 1557.83 1328.82 1552.61 L1328.82 1532.4 L1334.68 1532.4 L1334.68 1568.04 L1328.82 1568.04 L1328.82 1562.57 Q1326.69 1565.82 1323.86 1567.41 Q1321.06 1568.97 1317.33 1568.97 Q1311.19 1568.97 1308.01 1565.15 Q1304.83 1561.33 1304.83 1553.98 M1319.56 1531.54 L1319.56 1531.54 Z\" fill=\"#000000\" fill-rule=\"nonzero\" fill-opacity=\"1\" /><path clip-path=\"url(#clip910)\" d=\"M1377.24 1548.76 L1377.24 1551.62 L1350.31 1551.62 Q1350.69 1557.67 1353.94 1560.85 Q1357.21 1564 1363.04 1564 Q1366.41 1564 1369.56 1563.17 Q1372.75 1562.35 1375.87 1560.69 L1375.87 1566.23 Q1372.72 1567.57 1369.41 1568.27 Q1366.1 1568.97 1362.69 1568.97 Q1354.16 1568.97 1349.16 1564 Q1344.2 1559.04 1344.2 1550.57 Q1344.2 1541.82 1348.91 1536.69 Q1353.65 1531.54 1361.67 1531.54 Q1368.86 1531.54 1373.03 1536.18 Q1377.24 1540.8 1377.24 1548.76 M1371.38 1547.04 Q1371.31 1542.23 1368.67 1539.37 Q1366.06 1536.5 1361.73 1536.5 Q1356.83 1536.5 1353.87 1539.27 Q1350.94 1542.04 1350.5 1547.07 L1371.38 1547.04 Z\" fill=\"#000000\" fill-rule=\"nonzero\" fill-opacity=\"1\" /><path clip-path=\"url(#clip910)\" d=\"M1409.57 1533.45 L1409.57 1538.98 Q1407.09 1537.71 1404.42 1537.07 Q1401.74 1536.44 1398.88 1536.44 Q1394.52 1536.44 1392.32 1537.77 Q1390.16 1539.11 1390.16 1541.79 Q1390.16 1543.82 1391.72 1545 Q1393.28 1546.15 1397.99 1547.2 L1399.99 1547.64 Q1406.23 1548.98 1408.84 1551.43 Q1411.48 1553.85 1411.48 1558.21 Q1411.48 1563.17 1407.54 1566.07 Q1403.62 1568.97 1396.75 1568.97 Q1393.88 1568.97 1390.76 1568.39 Q1387.67 1567.85 1384.24 1566.74 L1384.24 1560.69 Q1387.48 1562.38 1390.63 1563.24 Q1393.79 1564.07 1396.87 1564.07 Q1401.01 1564.07 1403.24 1562.66 Q1405.47 1561.23 1405.47 1558.65 Q1405.47 1556.27 1403.84 1554.99 Q1402.25 1553.72 1396.81 1552.54 L1394.77 1552.07 Q1389.33 1550.92 1386.91 1548.56 Q1384.49 1546.18 1384.49 1542.04 Q1384.49 1537.01 1388.06 1534.27 Q1391.62 1531.54 1398.18 1531.54 Q1401.42 1531.54 1404.29 1532.01 Q1407.15 1532.49 1409.57 1533.45 Z\" fill=\"#000000\" fill-rule=\"nonzero\" fill-opacity=\"1\" /><polyline clip-path=\"url(#clip912)\" style=\"stroke:#000000; stroke-linecap:round; stroke-linejoin:round; stroke-width:2; stroke-opacity:0.1; fill:none\" points=\"203.964,1386.4 2352.76,1386.4 \"/>\n",
              "<polyline clip-path=\"url(#clip912)\" style=\"stroke:#000000; stroke-linecap:round; stroke-linejoin:round; stroke-width:2; stroke-opacity:0.1; fill:none\" points=\"203.964,1141.17 2352.76,1141.17 \"/>\n",
              "<polyline clip-path=\"url(#clip912)\" style=\"stroke:#000000; stroke-linecap:round; stroke-linejoin:round; stroke-width:2; stroke-opacity:0.1; fill:none\" points=\"203.964,895.94 2352.76,895.94 \"/>\n",
              "<polyline clip-path=\"url(#clip912)\" style=\"stroke:#000000; stroke-linecap:round; stroke-linejoin:round; stroke-width:2; stroke-opacity:0.1; fill:none\" points=\"203.964,650.712 2352.76,650.712 \"/>\n",
              "<polyline clip-path=\"url(#clip912)\" style=\"stroke:#000000; stroke-linecap:round; stroke-linejoin:round; stroke-width:2; stroke-opacity:0.1; fill:none\" points=\"203.964,405.484 2352.76,405.484 \"/>\n",
              "<polyline clip-path=\"url(#clip912)\" style=\"stroke:#000000; stroke-linecap:round; stroke-linejoin:round; stroke-width:2; stroke-opacity:0.1; fill:none\" points=\"203.964,160.256 2352.76,160.256 \"/>\n",
              "<polyline clip-path=\"url(#clip910)\" style=\"stroke:#000000; stroke-linecap:round; stroke-linejoin:round; stroke-width:4; stroke-opacity:1; fill:none\" points=\"203.964,1423.18 203.964,123.472 \"/>\n",
              "<polyline clip-path=\"url(#clip910)\" style=\"stroke:#000000; stroke-linecap:round; stroke-linejoin:round; stroke-width:4; stroke-opacity:1; fill:none\" points=\"203.964,1386.4 222.861,1386.4 \"/>\n",
              "<polyline clip-path=\"url(#clip910)\" style=\"stroke:#000000; stroke-linecap:round; stroke-linejoin:round; stroke-width:4; stroke-opacity:1; fill:none\" points=\"203.964,1141.17 222.861,1141.17 \"/>\n",
              "<polyline clip-path=\"url(#clip910)\" style=\"stroke:#000000; stroke-linecap:round; stroke-linejoin:round; stroke-width:4; stroke-opacity:1; fill:none\" points=\"203.964,895.94 222.861,895.94 \"/>\n",
              "<polyline clip-path=\"url(#clip910)\" style=\"stroke:#000000; stroke-linecap:round; stroke-linejoin:round; stroke-width:4; stroke-opacity:1; fill:none\" points=\"203.964,650.712 222.861,650.712 \"/>\n",
              "<polyline clip-path=\"url(#clip910)\" style=\"stroke:#000000; stroke-linecap:round; stroke-linejoin:round; stroke-width:4; stroke-opacity:1; fill:none\" points=\"203.964,405.484 222.861,405.484 \"/>\n",
              "<polyline clip-path=\"url(#clip910)\" style=\"stroke:#000000; stroke-linecap:round; stroke-linejoin:round; stroke-width:4; stroke-opacity:1; fill:none\" points=\"203.964,160.256 222.861,160.256 \"/>\n",
              "<path clip-path=\"url(#clip910)\" d=\"M156.019 1372.19 Q152.408 1372.19 150.579 1375.76 Q148.774 1379.3 148.774 1386.43 Q148.774 1393.54 150.579 1397.1 Q152.408 1400.64 156.019 1400.64 Q159.653 1400.64 161.459 1397.1 Q163.288 1393.54 163.288 1386.43 Q163.288 1379.3 161.459 1375.76 Q159.653 1372.19 156.019 1372.19 M156.019 1368.49 Q161.829 1368.49 164.885 1373.1 Q167.964 1377.68 167.964 1386.43 Q167.964 1395.16 164.885 1399.76 Q161.829 1404.35 156.019 1404.35 Q150.209 1404.35 147.13 1399.76 Q144.075 1395.16 144.075 1386.43 Q144.075 1377.68 147.13 1373.1 Q150.209 1368.49 156.019 1368.49 Z\" fill=\"#000000\" fill-rule=\"nonzero\" fill-opacity=\"1\" /><path clip-path=\"url(#clip910)\" d=\"M147.061 1123.89 L165.417 1123.89 L165.417 1127.82 L151.343 1127.82 L151.343 1136.3 Q152.362 1135.95 153.38 1135.79 Q154.399 1135.6 155.417 1135.6 Q161.204 1135.6 164.584 1138.77 Q167.964 1141.94 167.964 1147.36 Q167.964 1152.94 164.491 1156.04 Q161.019 1159.12 154.7 1159.12 Q152.524 1159.12 150.255 1158.75 Q148.01 1158.38 145.603 1157.64 L145.603 1152.94 Q147.686 1154.07 149.908 1154.63 Q152.13 1155.18 154.607 1155.18 Q158.612 1155.18 160.95 1153.08 Q163.288 1150.97 163.288 1147.36 Q163.288 1143.75 160.95 1141.64 Q158.612 1139.54 154.607 1139.54 Q152.732 1139.54 150.857 1139.95 Q149.005 1140.37 147.061 1141.25 L147.061 1123.89 Z\" fill=\"#000000\" fill-rule=\"nonzero\" fill-opacity=\"1\" /><path clip-path=\"url(#clip910)\" d=\"M116.668 909.285 L124.306 909.285 L124.306 882.919 L115.996 884.586 L115.996 880.327 L124.26 878.66 L128.936 878.66 L128.936 909.285 L136.575 909.285 L136.575 913.22 L116.668 913.22 L116.668 909.285 Z\" fill=\"#000000\" fill-rule=\"nonzero\" fill-opacity=\"1\" /><path clip-path=\"url(#clip910)\" d=\"M156.019 881.739 Q152.408 881.739 150.579 885.303 Q148.774 888.845 148.774 895.975 Q148.774 903.081 150.579 906.646 Q152.408 910.188 156.019 910.188 Q159.653 910.188 161.459 906.646 Q163.288 903.081 163.288 895.975 Q163.288 888.845 161.459 885.303 Q159.653 881.739 156.019 881.739 M156.019 878.035 Q161.829 878.035 164.885 882.641 Q167.964 887.225 167.964 895.975 Q167.964 904.701 164.885 909.308 Q161.829 913.891 156.019 913.891 Q150.209 913.891 147.13 909.308 Q144.075 904.701 144.075 895.975 Q144.075 887.225 147.13 882.641 Q150.209 878.035 156.019 878.035 Z\" fill=\"#000000\" fill-rule=\"nonzero\" fill-opacity=\"1\" /><path clip-path=\"url(#clip910)\" d=\"M117.663 664.057 L125.302 664.057 L125.302 637.691 L116.992 639.358 L116.992 635.099 L125.255 633.432 L129.931 633.432 L129.931 664.057 L137.57 664.057 L137.57 667.992 L117.663 667.992 L117.663 664.057 Z\" fill=\"#000000\" fill-rule=\"nonzero\" fill-opacity=\"1\" /><path clip-path=\"url(#clip910)\" d=\"M147.061 633.432 L165.417 633.432 L165.417 637.367 L151.343 637.367 L151.343 645.839 Q152.362 645.492 153.38 645.33 Q154.399 645.145 155.417 645.145 Q161.204 645.145 164.584 648.316 Q167.964 651.488 167.964 656.904 Q167.964 662.483 164.491 665.585 Q161.019 668.663 154.7 668.663 Q152.524 668.663 150.255 668.293 Q148.01 667.923 145.603 667.182 L145.603 662.483 Q147.686 663.617 149.908 664.173 Q152.13 664.728 154.607 664.728 Q158.612 664.728 160.95 662.622 Q163.288 660.515 163.288 656.904 Q163.288 653.293 160.95 651.187 Q158.612 649.08 154.607 649.08 Q152.732 649.08 150.857 649.497 Q149.005 649.913 147.061 650.793 L147.061 633.432 Z\" fill=\"#000000\" fill-rule=\"nonzero\" fill-opacity=\"1\" /><path clip-path=\"url(#clip910)\" d=\"M119.885 418.829 L136.204 418.829 L136.204 422.764 L114.26 422.764 L114.26 418.829 Q116.922 416.074 121.505 411.445 Q126.112 406.792 127.292 405.449 Q129.538 402.926 130.417 401.19 Q131.32 399.431 131.32 397.741 Q131.32 394.987 129.376 393.25 Q127.455 391.514 124.353 391.514 Q122.154 391.514 119.7 392.278 Q117.269 393.042 114.492 394.593 L114.492 389.871 Q117.316 388.737 119.769 388.158 Q122.223 387.579 124.26 387.579 Q129.63 387.579 132.825 390.264 Q136.019 392.95 136.019 397.44 Q136.019 399.57 135.209 401.491 Q134.422 403.389 132.316 405.982 Q131.737 406.653 128.635 409.871 Q125.533 413.065 119.885 418.829 Z\" fill=\"#000000\" fill-rule=\"nonzero\" fill-opacity=\"1\" /><path clip-path=\"url(#clip910)\" d=\"M156.019 391.283 Q152.408 391.283 150.579 394.848 Q148.774 398.389 148.774 405.519 Q148.774 412.625 150.579 416.19 Q152.408 419.732 156.019 419.732 Q159.653 419.732 161.459 416.19 Q163.288 412.625 163.288 405.519 Q163.288 398.389 161.459 394.848 Q159.653 391.283 156.019 391.283 M156.019 387.579 Q161.829 387.579 164.885 392.186 Q167.964 396.769 167.964 405.519 Q167.964 414.246 164.885 418.852 Q161.829 423.435 156.019 423.435 Q150.209 423.435 147.13 418.852 Q144.075 414.246 144.075 405.519 Q144.075 396.769 147.13 392.186 Q150.209 387.579 156.019 387.579 Z\" fill=\"#000000\" fill-rule=\"nonzero\" fill-opacity=\"1\" /><path clip-path=\"url(#clip910)\" d=\"M120.88 173.601 L137.2 173.601 L137.2 177.536 L115.256 177.536 L115.256 173.601 Q117.918 170.847 122.501 166.217 Q127.107 161.564 128.288 160.222 Q130.533 157.698 131.413 155.962 Q132.316 154.203 132.316 152.513 Q132.316 149.759 130.371 148.023 Q128.45 146.286 125.348 146.286 Q123.149 146.286 120.695 147.05 Q118.265 147.814 115.487 149.365 L115.487 144.643 Q118.311 143.509 120.765 142.93 Q123.218 142.351 125.255 142.351 Q130.626 142.351 133.82 145.036 Q137.015 147.722 137.015 152.212 Q137.015 154.342 136.204 156.263 Q135.417 158.161 133.311 160.754 Q132.732 161.425 129.63 164.643 Q126.529 167.837 120.88 173.601 Z\" fill=\"#000000\" fill-rule=\"nonzero\" fill-opacity=\"1\" /><path clip-path=\"url(#clip910)\" d=\"M147.061 142.976 L165.417 142.976 L165.417 146.911 L151.343 146.911 L151.343 155.384 Q152.362 155.036 153.38 154.874 Q154.399 154.689 155.417 154.689 Q161.204 154.689 164.584 157.86 Q167.964 161.032 167.964 166.448 Q167.964 172.027 164.491 175.129 Q161.019 178.208 154.7 178.208 Q152.524 178.208 150.255 177.837 Q148.01 177.467 145.603 176.726 L145.603 172.027 Q147.686 173.161 149.908 173.717 Q152.13 174.272 154.607 174.272 Q158.612 174.272 160.95 172.166 Q163.288 170.059 163.288 166.448 Q163.288 162.837 160.95 160.731 Q158.612 158.624 154.607 158.624 Q152.732 158.624 150.857 159.041 Q149.005 159.458 147.061 160.337 L147.061 142.976 Z\" fill=\"#000000\" fill-rule=\"nonzero\" fill-opacity=\"1\" /><path clip-path=\"url(#clip910)\" d=\"M28.3562 1013.27 L45.7028 1026.16 L64.0042 1012.6 L64.0042 1019.5 L49.9996 1029.88 L64.0042 1040.26 L64.0042 1047.16 L45.3526 1033.32 L28.3562 1045.99 L28.3562 1039.08 L41.0558 1029.63 L28.3562 1020.17 L28.3562 1013.27 Z\" fill=\"#000000\" fill-rule=\"nonzero\" fill-opacity=\"1\" /><path clip-path=\"url(#clip910)\" d=\"M28.3562 987.803 L28.3562 981.596 L58.275 970.456 L28.3562 959.316 L28.3562 953.109 L64.0042 966.477 L64.0042 974.435 L28.3562 987.803 Z\" fill=\"#000000\" fill-rule=\"nonzero\" fill-opacity=\"1\" /><path clip-path=\"url(#clip910)\" d=\"M46.0847 928.824 Q46.0847 935.922 47.7079 938.659 Q49.3312 941.397 53.2461 941.397 Q56.3653 941.397 58.2114 939.36 Q60.0256 937.291 60.0256 933.758 Q60.0256 928.888 56.5881 925.96 Q53.1188 923 47.3897 923 L46.0847 923 L46.0847 928.824 M43.6657 917.143 L64.0042 917.143 L64.0042 923 L58.5933 923 Q61.8398 925.005 63.3994 927.997 Q64.9272 930.989 64.9272 935.317 Q64.9272 940.792 61.8716 944.038 Q58.7843 947.253 53.6281 947.253 Q47.6125 947.253 44.5569 943.243 Q41.5014 939.2 41.5014 931.211 L41.5014 923 L40.9285 923 Q36.8862 923 34.6901 925.673 Q32.4621 928.315 32.4621 933.121 Q32.4621 936.177 33.1941 939.073 Q33.9262 941.969 35.3903 944.643 L29.9795 944.643 Q28.7381 941.428 28.1334 938.405 Q27.4968 935.381 27.4968 932.516 Q27.4968 924.782 31.5072 920.963 Q35.5176 917.143 43.6657 917.143 Z\" fill=\"#000000\" fill-rule=\"nonzero\" fill-opacity=\"1\" /><path clip-path=\"url(#clip910)\" d=\"M14.479 905.08 L14.479 899.224 L64.0042 899.224 L64.0042 905.08 L14.479 905.08 Z\" fill=\"#000000\" fill-rule=\"nonzero\" fill-opacity=\"1\" /><path clip-path=\"url(#clip910)\" d=\"M49.9359 887.575 L28.3562 887.575 L28.3562 881.718 L49.7131 881.718 Q54.7739 881.718 57.3202 879.745 Q59.8346 877.771 59.8346 873.825 Q59.8346 869.082 56.8109 866.345 Q53.7872 863.576 48.5673 863.576 L28.3562 863.576 L28.3562 857.719 L64.0042 857.719 L64.0042 863.576 L58.5296 863.576 Q61.7762 865.708 63.3676 868.541 Q64.9272 871.342 64.9272 875.066 Q64.9272 881.209 61.1078 884.392 Q57.2883 887.575 49.9359 887.575 M27.4968 872.838 L27.4968 872.838 Z\" fill=\"#000000\" fill-rule=\"nonzero\" fill-opacity=\"1\" /><path clip-path=\"url(#clip910)\" d=\"M44.7161 815.165 L47.5806 815.165 L47.5806 842.092 Q53.6281 841.71 56.8109 838.463 Q59.9619 835.185 59.9619 829.36 Q59.9619 825.986 59.1344 822.835 Q58.3069 819.652 56.6518 816.533 L62.1899 816.533 Q63.5267 819.684 64.227 822.994 Q64.9272 826.305 64.9272 829.71 Q64.9272 838.24 59.9619 843.237 Q54.9967 848.203 46.5303 848.203 Q37.7774 848.203 32.6531 843.492 Q27.4968 838.75 27.4968 830.729 Q27.4968 823.535 32.1438 819.366 Q36.7589 815.165 44.7161 815.165 M42.9973 821.021 Q38.1912 821.085 35.3266 823.726 Q32.4621 826.336 32.4621 830.665 Q32.4621 835.567 35.2312 838.527 Q38.0002 841.455 43.0292 841.901 L42.9973 821.021 Z\" fill=\"#000000\" fill-rule=\"nonzero\" fill-opacity=\"1\" /><path clip-path=\"url(#clip910)\" d=\"M29.4065 782.827 L34.9447 782.827 Q33.6716 785.309 33.035 787.983 Q32.3984 790.657 32.3984 793.521 Q32.3984 797.882 33.7352 800.078 Q35.072 802.242 37.7456 802.242 Q39.7826 802.242 40.9603 800.683 Q42.1061 799.123 43.1565 794.412 L43.6021 792.407 Q44.9389 786.169 47.3897 783.559 Q49.8086 780.917 54.1691 780.917 Q59.1344 780.917 62.0308 784.864 Q64.9272 788.779 64.9272 795.654 Q64.9272 798.518 64.3543 801.637 Q63.8132 804.725 62.6992 808.162 L56.6518 808.162 Q58.3387 804.916 59.198 801.765 Q60.0256 798.614 60.0256 795.526 Q60.0256 791.389 58.6251 789.161 Q57.1929 786.933 54.6147 786.933 Q52.2276 786.933 50.9545 788.556 Q49.6813 790.147 48.5037 795.59 L48.0262 797.627 Q46.8804 803.07 44.5251 805.489 Q42.138 807.908 38.0002 807.908 Q32.9713 807.908 30.2341 804.343 Q27.4968 800.778 27.4968 794.221 Q27.4968 790.975 27.9743 788.11 Q28.4517 785.246 29.4065 782.827 Z\" fill=\"#000000\" fill-rule=\"nonzero\" fill-opacity=\"1\" /><path clip-path=\"url(#clip910)\" d=\"M29.4065 728.145 L34.9447 728.145 Q33.6716 730.628 33.035 733.302 Q32.3984 735.975 32.3984 738.84 Q32.3984 743.2 33.7352 745.396 Q35.072 747.561 37.7456 747.561 Q39.7826 747.561 40.9603 746.001 Q42.1061 744.442 43.1565 739.731 L43.6021 737.726 Q44.9389 731.487 47.3897 728.877 Q49.8086 726.236 54.1691 726.236 Q59.1344 726.236 62.0308 730.182 Q64.9272 734.097 64.9272 740.972 Q64.9272 743.837 64.3543 746.956 Q63.8132 750.043 62.6992 753.481 L56.6518 753.481 Q58.3387 750.234 59.198 747.083 Q60.0256 743.932 60.0256 740.845 Q60.0256 736.707 58.6251 734.479 Q57.1929 732.251 54.6147 732.251 Q52.2276 732.251 50.9545 733.875 Q49.6813 735.466 48.5037 740.909 L48.0262 742.946 Q46.8804 748.388 44.5251 750.807 Q42.138 753.226 38.0002 753.226 Q32.9713 753.226 30.2341 749.661 Q27.4968 746.097 27.4968 739.54 Q27.4968 736.293 27.9743 733.429 Q28.4517 730.564 29.4065 728.145 Z\" fill=\"#000000\" fill-rule=\"nonzero\" fill-opacity=\"1\" /><path clip-path=\"url(#clip910)\" d=\"M46.212 713.409 Q52.6732 713.409 56.3653 710.767 Q60.0256 708.093 60.0256 703.446 Q60.0256 698.799 56.3653 696.126 Q52.6732 693.452 46.212 693.452 Q39.7508 693.452 36.0905 696.126 Q32.3984 698.799 32.3984 703.446 Q32.3984 708.093 36.0905 710.767 Q39.7508 713.409 46.212 713.409 M58.657 693.452 Q61.8398 695.298 63.3994 698.131 Q64.9272 700.932 64.9272 704.879 Q64.9272 711.34 59.771 715.414 Q54.6147 719.456 46.212 719.456 Q37.8093 719.456 32.6531 715.414 Q27.4968 711.34 27.4968 704.879 Q27.4968 700.932 29.0564 698.131 Q30.5842 695.298 33.7671 693.452 L28.3562 693.452 L28.3562 687.596 L77.5631 687.596 L77.5631 693.452 L58.657 693.452 Z\" fill=\"#000000\" fill-rule=\"nonzero\" fill-opacity=\"1\" /><path clip-path=\"url(#clip910)\" d=\"M49.9359 676.138 L28.3562 676.138 L28.3562 670.281 L49.7131 670.281 Q54.7739 670.281 57.3202 668.308 Q59.8346 666.334 59.8346 662.388 Q59.8346 657.645 56.8109 654.908 Q53.7872 652.139 48.5673 652.139 L28.3562 652.139 L28.3562 646.282 L64.0042 646.282 L64.0042 652.139 L58.5296 652.139 Q61.7762 654.271 63.3676 657.104 Q64.9272 659.905 64.9272 663.629 Q64.9272 669.772 61.1078 672.955 Q57.2883 676.138 49.9359 676.138 M27.4968 661.401 L27.4968 661.401 Z\" fill=\"#000000\" fill-rule=\"nonzero\" fill-opacity=\"1\" /><path clip-path=\"url(#clip910)\" d=\"M46.0847 618.019 Q46.0847 625.116 47.7079 627.854 Q49.3312 630.591 53.2461 630.591 Q56.3653 630.591 58.2114 628.554 Q60.0256 626.485 60.0256 622.952 Q60.0256 618.082 56.5881 615.154 Q53.1188 612.194 47.3897 612.194 L46.0847 612.194 L46.0847 618.019 M43.6657 606.338 L64.0042 606.338 L64.0042 612.194 L58.5933 612.194 Q61.8398 614.199 63.3994 617.191 Q64.9272 620.183 64.9272 624.512 Q64.9272 629.986 61.8716 633.233 Q58.7843 636.447 53.6281 636.447 Q47.6125 636.447 44.5569 632.437 Q41.5014 628.395 41.5014 620.406 L41.5014 612.194 L40.9285 612.194 Q36.8862 612.194 34.6901 614.868 Q32.4621 617.509 32.4621 622.316 Q32.4621 625.371 33.1941 628.267 Q33.9262 631.164 35.3903 633.837 L29.9795 633.837 Q28.7381 630.623 28.1334 627.599 Q27.4968 624.575 27.4968 621.711 Q27.4968 613.976 31.5072 610.157 Q35.5176 606.338 43.6657 606.338 Z\" fill=\"#000000\" fill-rule=\"nonzero\" fill-opacity=\"1\" /><path clip-path=\"url(#clip910)\" d=\"M33.8307 573.618 Q33.2578 574.605 33.0032 575.782 Q32.7167 576.928 32.7167 578.328 Q32.7167 583.294 35.9632 585.967 Q39.1779 588.609 45.2253 588.609 L64.0042 588.609 L64.0042 594.497 L28.3562 594.497 L28.3562 588.609 L33.8944 588.609 Q30.6479 586.763 29.0883 583.803 Q27.4968 580.843 27.4968 576.61 Q27.4968 576.005 27.5923 575.273 Q27.656 574.541 27.8151 573.65 L33.8307 573.618 Z\" fill=\"#000000\" fill-rule=\"nonzero\" fill-opacity=\"1\" /><path clip-path=\"url(#clip910)\" d=\"M44.7161 538.415 L47.5806 538.415 L47.5806 565.342 Q53.6281 564.96 56.8109 561.714 Q59.9619 558.436 59.9619 552.611 Q59.9619 549.237 59.1344 546.086 Q58.3069 542.903 56.6518 539.784 L62.1899 539.784 Q63.5267 542.935 64.227 546.245 Q64.9272 549.555 64.9272 552.961 Q64.9272 561.491 59.9619 566.488 Q54.9967 571.454 46.5303 571.454 Q37.7774 571.454 32.6531 566.743 Q27.4968 562 27.4968 553.98 Q27.4968 546.786 32.1438 542.617 Q36.7589 538.415 44.7161 538.415 M42.9973 544.272 Q38.1912 544.336 35.3266 546.977 Q32.4621 549.587 32.4621 553.916 Q32.4621 558.818 35.2312 561.778 Q38.0002 564.706 43.0292 565.151 L42.9973 544.272 Z\" fill=\"#000000\" fill-rule=\"nonzero\" fill-opacity=\"1\" /><path clip-path=\"url(#clip910)\" d=\"M33.7671 505.346 L14.479 505.346 L14.479 499.489 L64.0042 499.489 L64.0042 505.346 L58.657 505.346 Q61.8398 507.192 63.3994 510.024 Q64.9272 512.825 64.9272 516.772 Q64.9272 523.233 59.771 527.307 Q54.6147 531.35 46.212 531.35 Q37.8093 531.35 32.6531 527.307 Q27.4968 523.233 27.4968 516.772 Q27.4968 512.825 29.0564 510.024 Q30.5842 507.192 33.7671 505.346 M46.212 525.302 Q52.6732 525.302 56.3653 522.66 Q60.0256 519.987 60.0256 515.34 Q60.0256 510.693 56.3653 508.019 Q52.6732 505.346 46.212 505.346 Q39.7508 505.346 36.0905 508.019 Q32.3984 510.693 32.3984 515.34 Q32.3984 519.987 36.0905 522.66 Q39.7508 525.302 46.212 525.302 Z\" fill=\"#000000\" fill-rule=\"nonzero\" fill-opacity=\"1\" /><path clip-path=\"url(#clip910)\" d=\"M999.131 28.5427 L999.131 35.5912 Q995.971 33.9709 992.568 33.1607 Q989.166 32.3505 985.52 32.3505 Q979.97 32.3505 977.175 34.0519 Q974.42 35.7533 974.42 39.156 Q974.42 41.7486 976.405 43.2475 Q978.39 44.7058 984.386 46.0426 L986.938 46.6097 Q994.877 48.3111 998.199 51.4303 Q1001.56 54.509 1001.56 60.0587 Q1001.56 66.3781 996.538 70.0644 Q991.556 73.7508 982.806 73.7508 Q979.16 73.7508 975.19 73.0216 Q971.261 72.3329 966.886 70.9151 L966.886 63.2184 Q971.018 65.3654 975.028 66.4591 Q979.038 67.5124 982.968 67.5124 Q988.234 67.5124 991.07 65.73 Q993.905 63.9071 993.905 60.6258 Q993.905 57.5877 991.839 55.9673 Q989.814 54.3469 982.887 52.8481 L980.294 52.2405 Q973.367 50.7821 970.288 47.7845 Q967.21 44.7463 967.21 39.4801 Q967.21 33.0797 971.747 29.5959 Q976.284 26.1121 984.629 26.1121 Q988.761 26.1121 992.406 26.7198 Q996.052 27.3274 999.131 28.5427 Z\" fill=\"#000000\" fill-rule=\"nonzero\" fill-opacity=\"1\" /><path clip-path=\"url(#clip910)\" d=\"M1017.89 49.9314 Q1017.89 58.1548 1021.25 62.8538 Q1024.65 67.5124 1030.57 67.5124 Q1036.48 67.5124 1039.88 62.8538 Q1043.29 58.1548 1043.29 49.9314 Q1043.29 41.7081 1039.88 37.0496 Q1036.48 32.3505 1030.57 32.3505 Q1024.65 32.3505 1021.25 37.0496 Q1017.89 41.7081 1017.89 49.9314 M1043.29 65.7705 Q1040.94 69.8214 1037.33 71.8063 Q1033.77 73.7508 1028.74 73.7508 Q1020.52 73.7508 1015.33 67.1883 Q1010.19 60.6258 1010.19 49.9314 Q1010.19 39.2371 1015.33 32.6746 Q1020.52 26.1121 1028.74 26.1121 Q1033.77 26.1121 1037.33 28.0971 Q1040.94 30.0415 1043.29 34.0924 L1043.29 27.2059 L1050.74 27.2059 L1050.74 89.8329 L1043.29 89.8329 L1043.29 65.7705 Z\" fill=\"#000000\" fill-rule=\"nonzero\" fill-opacity=\"1\" /><path clip-path=\"url(#clip910)\" d=\"M1065.32 54.671 L1065.32 27.2059 L1072.78 27.2059 L1072.78 54.3874 Q1072.78 60.8284 1075.29 64.0691 Q1077.8 67.2693 1082.82 67.2693 Q1088.86 67.2693 1092.34 63.421 Q1095.87 59.5726 1095.87 52.9291 L1095.87 27.2059 L1103.32 27.2059 L1103.32 72.576 L1095.87 72.576 L1095.87 65.6084 Q1093.15 69.7404 1089.55 71.7658 Q1085.98 73.7508 1081.24 73.7508 Q1073.42 73.7508 1069.37 68.8897 Q1065.32 64.0286 1065.32 54.671 M1084.08 26.1121 L1084.08 26.1121 Z\" fill=\"#000000\" fill-rule=\"nonzero\" fill-opacity=\"1\" /><path clip-path=\"url(#clip910)\" d=\"M1139.29 49.7694 Q1130.26 49.7694 1126.77 51.8354 Q1123.29 53.9013 1123.29 58.8839 Q1123.29 62.8538 1125.88 65.2034 Q1128.52 67.5124 1133.01 67.5124 Q1139.21 67.5124 1142.94 63.1374 Q1146.71 58.7219 1146.71 51.4303 L1146.71 49.7694 L1139.29 49.7694 M1154.16 46.6907 L1154.16 72.576 L1146.71 72.576 L1146.71 65.6895 Q1144.15 69.8214 1140.35 71.8063 Q1136.54 73.7508 1131.03 73.7508 Q1124.06 73.7508 1119.93 69.8619 Q1115.84 65.9325 1115.84 59.3701 Q1115.84 51.7138 1120.94 47.825 Q1126.09 43.9361 1136.25 43.9361 L1146.71 43.9361 L1146.71 43.2069 Q1146.71 38.0623 1143.3 35.2672 Q1139.94 32.4315 1133.82 32.4315 Q1129.93 32.4315 1126.25 33.3632 Q1122.56 34.295 1119.16 36.1584 L1119.16 29.2718 Q1123.25 27.692 1127.1 26.9223 Q1130.95 26.1121 1134.59 26.1121 Q1144.44 26.1121 1149.3 31.2163 Q1154.16 36.3204 1154.16 46.6907 Z\" fill=\"#000000\" fill-rule=\"nonzero\" fill-opacity=\"1\" /><path clip-path=\"url(#clip910)\" d=\"M1195.8 34.1734 Q1194.55 33.4443 1193.05 33.1202 Q1191.59 32.7556 1189.81 32.7556 Q1183.49 32.7556 1180.08 36.8875 Q1176.72 40.9789 1176.72 48.6757 L1176.72 72.576 L1169.23 72.576 L1169.23 27.2059 L1176.72 27.2059 L1176.72 34.2544 Q1179.07 30.1225 1182.84 28.1376 Q1186.61 26.1121 1191.99 26.1121 Q1192.76 26.1121 1193.7 26.2337 Q1194.63 26.3147 1195.76 26.5172 L1195.8 34.1734 Z\" fill=\"#000000\" fill-rule=\"nonzero\" fill-opacity=\"1\" /><path clip-path=\"url(#clip910)\" d=\"M1240.61 48.0275 L1240.61 51.6733 L1206.33 51.6733 Q1206.82 59.3701 1210.95 63.421 Q1215.13 67.4314 1222.54 67.4314 Q1226.83 67.4314 1230.84 66.3781 Q1234.89 65.3249 1238.86 63.2184 L1238.86 70.267 Q1234.85 71.9684 1230.64 72.8596 Q1226.43 73.7508 1222.09 73.7508 Q1211.24 73.7508 1204.88 67.4314 Q1198.56 61.1119 1198.56 50.3365 Q1198.56 39.1965 1204.55 32.6746 Q1210.59 26.1121 1220.8 26.1121 Q1229.95 26.1121 1235.26 32.0264 Q1240.61 37.9003 1240.61 48.0275 M1233.15 45.84 Q1233.07 39.7232 1229.71 36.0774 Q1226.39 32.4315 1220.88 32.4315 Q1214.64 32.4315 1210.87 35.9558 Q1207.14 39.4801 1206.58 45.8805 L1233.15 45.84 Z\" fill=\"#000000\" fill-rule=\"nonzero\" fill-opacity=\"1\" /><path clip-path=\"url(#clip910)\" d=\"M1282.69 34.0924 L1282.69 9.54393 L1290.15 9.54393 L1290.15 72.576 L1282.69 72.576 L1282.69 65.7705 Q1280.34 69.8214 1276.74 71.8063 Q1273.17 73.7508 1268.15 73.7508 Q1259.93 73.7508 1254.74 67.1883 Q1249.6 60.6258 1249.6 49.9314 Q1249.6 39.2371 1254.74 32.6746 Q1259.93 26.1121 1268.15 26.1121 Q1273.17 26.1121 1276.74 28.0971 Q1280.34 30.0415 1282.69 34.0924 M1257.3 49.9314 Q1257.3 58.1548 1260.66 62.8538 Q1264.06 67.5124 1269.97 67.5124 Q1275.89 67.5124 1279.29 62.8538 Q1282.69 58.1548 1282.69 49.9314 Q1282.69 41.7081 1279.29 37.0496 Q1275.89 32.3505 1269.97 32.3505 Q1264.06 32.3505 1260.66 37.0496 Q1257.3 41.7081 1257.3 49.9314 Z\" fill=\"#000000\" fill-rule=\"nonzero\" fill-opacity=\"1\" /><path clip-path=\"url(#clip910)\" d=\"M1326.52 27.2059 L1334.42 27.2059 L1348.6 65.2844 L1362.78 27.2059 L1370.68 27.2059 L1353.67 72.576 L1343.54 72.576 L1326.52 27.2059 Z\" fill=\"#000000\" fill-rule=\"nonzero\" fill-opacity=\"1\" /><path clip-path=\"url(#clip910)\" d=\"M1401.59 49.7694 Q1392.55 49.7694 1389.07 51.8354 Q1385.59 53.9013 1385.59 58.8839 Q1385.59 62.8538 1388.18 65.2034 Q1390.81 67.5124 1395.31 67.5124 Q1401.51 67.5124 1405.23 63.1374 Q1409 58.7219 1409 51.4303 L1409 49.7694 L1401.59 49.7694 M1416.46 46.6907 L1416.46 72.576 L1409 72.576 L1409 65.6895 Q1406.45 69.8214 1402.64 71.8063 Q1398.83 73.7508 1393.32 73.7508 Q1386.36 73.7508 1382.22 69.8619 Q1378.13 65.9325 1378.13 59.3701 Q1378.13 51.7138 1383.24 47.825 Q1388.38 43.9361 1398.55 43.9361 L1409 43.9361 L1409 43.2069 Q1409 38.0623 1405.6 35.2672 Q1402.24 32.4315 1396.12 32.4315 Q1392.23 32.4315 1388.54 33.3632 Q1384.86 34.295 1381.46 36.1584 L1381.46 29.2718 Q1385.55 27.692 1389.4 26.9223 Q1393.24 26.1121 1396.89 26.1121 Q1406.73 26.1121 1411.59 31.2163 Q1416.46 36.3204 1416.46 46.6907 Z\" fill=\"#000000\" fill-rule=\"nonzero\" fill-opacity=\"1\" /><path clip-path=\"url(#clip910)\" d=\"M1431.81 9.54393 L1439.26 9.54393 L1439.26 72.576 L1431.81 72.576 L1431.81 9.54393 Z\" fill=\"#000000\" fill-rule=\"nonzero\" fill-opacity=\"1\" /><path clip-path=\"url(#clip910)\" d=\"M1454.09 54.671 L1454.09 27.2059 L1461.54 27.2059 L1461.54 54.3874 Q1461.54 60.8284 1464.05 64.0691 Q1466.56 67.2693 1471.59 67.2693 Q1477.62 67.2693 1481.11 63.421 Q1484.63 59.5726 1484.63 52.9291 L1484.63 27.2059 L1492.09 27.2059 L1492.09 72.576 L1484.63 72.576 L1484.63 65.6084 Q1481.92 69.7404 1478.31 71.7658 Q1474.75 73.7508 1470.01 73.7508 Q1462.19 73.7508 1458.14 68.8897 Q1454.09 64.0286 1454.09 54.671 M1472.84 26.1121 L1472.84 26.1121 Z\" fill=\"#000000\" fill-rule=\"nonzero\" fill-opacity=\"1\" /><path clip-path=\"url(#clip910)\" d=\"M1546.25 48.0275 L1546.25 51.6733 L1511.98 51.6733 Q1512.46 59.3701 1516.59 63.421 Q1520.77 67.4314 1528.18 67.4314 Q1532.47 67.4314 1536.48 66.3781 Q1540.53 65.3249 1544.5 63.2184 L1544.5 70.267 Q1540.49 71.9684 1536.28 72.8596 Q1532.07 73.7508 1527.73 73.7508 Q1516.88 73.7508 1510.52 67.4314 Q1504.2 61.1119 1504.2 50.3365 Q1504.2 39.1965 1510.19 32.6746 Q1516.23 26.1121 1526.44 26.1121 Q1535.59 26.1121 1540.9 32.0264 Q1546.25 37.9003 1546.25 48.0275 M1538.79 45.84 Q1538.71 39.7232 1535.35 36.0774 Q1532.03 32.4315 1526.52 32.4315 Q1520.28 32.4315 1516.51 35.9558 Q1512.79 39.4801 1512.22 45.8805 L1538.79 45.84 Z\" fill=\"#000000\" fill-rule=\"nonzero\" fill-opacity=\"1\" /><path clip-path=\"url(#clip910)\" d=\"M1587.4 28.5427 L1587.4 35.5912 Q1584.24 33.9709 1580.84 33.1607 Q1577.44 32.3505 1573.79 32.3505 Q1568.24 32.3505 1565.45 34.0519 Q1562.69 35.7533 1562.69 39.156 Q1562.69 41.7486 1564.68 43.2475 Q1566.66 44.7058 1572.66 46.0426 L1575.21 46.6097 Q1583.15 48.3111 1586.47 51.4303 Q1589.83 54.509 1589.83 60.0587 Q1589.83 66.3781 1584.81 70.0644 Q1579.83 73.7508 1571.08 73.7508 Q1567.43 73.7508 1563.46 73.0216 Q1559.53 72.3329 1555.16 70.9151 L1555.16 63.2184 Q1559.29 65.3654 1563.3 66.4591 Q1567.31 67.5124 1571.24 67.5124 Q1576.51 67.5124 1579.34 65.73 Q1582.18 63.9071 1582.18 60.6258 Q1582.18 57.5877 1580.11 55.9673 Q1578.09 54.3469 1571.16 52.8481 L1568.57 52.2405 Q1561.64 50.7821 1558.56 47.7845 Q1555.48 44.7463 1555.48 39.4801 Q1555.48 33.0797 1560.02 29.5959 Q1564.56 26.1121 1572.9 26.1121 Q1577.03 26.1121 1580.68 26.7198 Q1584.32 27.3274 1587.4 28.5427 Z\" fill=\"#000000\" fill-rule=\"nonzero\" fill-opacity=\"1\" /><polyline clip-path=\"url(#clip912)\" style=\"stroke:#009af9; stroke-linecap:round; stroke-linejoin:round; stroke-width:4; stroke-opacity:1; fill:none\" points=\"264.778,160.256 467.495,601.666 670.211,944.985 872.927,1190.21 1075.64,1337.35 1278.36,1386.4 1481.08,1337.35 1683.79,1190.21 1886.51,944.985 2089.22,601.666 2291.94,160.256 \"/>\n",
              "<path clip-path=\"url(#clip910)\" d=\"M2013.82 1379.86 L2281.13 1379.86 L2281.13 1276.18 L2013.82 1276.18  Z\" fill=\"#ffffff\" fill-rule=\"evenodd\" fill-opacity=\"1\"/>\n",
              "<polyline clip-path=\"url(#clip910)\" style=\"stroke:#000000; stroke-linecap:round; stroke-linejoin:round; stroke-width:4; stroke-opacity:1; fill:none\" points=\"2013.82,1379.86 2281.13,1379.86 2281.13,1276.18 2013.82,1276.18 2013.82,1379.86 \"/>\n",
              "<polyline clip-path=\"url(#clip910)\" style=\"stroke:#009af9; stroke-linecap:round; stroke-linejoin:round; stroke-width:4; stroke-opacity:1; fill:none\" points=\"2037.7,1328.02 2180.95,1328.02 \"/>\n",
              "<path clip-path=\"url(#clip910)\" d=\"M2218.67 1347.7 Q2216.86 1352.33 2215.15 1353.75 Q2213.43 1355.16 2210.56 1355.16 L2207.16 1355.16 L2207.16 1351.59 L2209.66 1351.59 Q2211.42 1351.59 2212.39 1350.76 Q2213.37 1349.93 2214.55 1346.82 L2215.31 1344.88 L2204.82 1319.37 L2209.34 1319.37 L2217.44 1339.65 L2225.54 1319.37 L2230.06 1319.37 L2218.67 1347.7 Z\" fill=\"#000000\" fill-rule=\"nonzero\" fill-opacity=\"1\" /><path clip-path=\"url(#clip910)\" d=\"M2237.35 1341.36 L2244.99 1341.36 L2244.99 1315 L2236.68 1316.66 L2236.68 1312.4 L2244.94 1310.74 L2249.62 1310.74 L2249.62 1341.36 L2257.25 1341.36 L2257.25 1345.3 L2237.35 1345.3 L2237.35 1341.36 Z\" fill=\"#000000\" fill-rule=\"nonzero\" fill-opacity=\"1\" /></svg>\n"
            ]
          },
          "metadata": {},
          "output_type": "display_data"
        }
      ],
      "source": [
        "#integers we want here\n",
        "x = [-5,-4,-3,-2,-1,0,1,2,3,4,5];\n",
        "#square them with the function\n",
        "# '.' makes it iterate\n",
        "y = squarefn.(x);\n",
        "\n",
        "plot(x, y, title=\"squared values\")\n",
        "xlabel!(\"x values\")\n",
        "ylabel!(\"x values squared\")\n",
        "\n",
        "\n",
        "\n",
        "\n"
      ]
    },
    {
      "cell_type": "markdown",
      "id": "cbcceb9d",
      "metadata": {
        "tags": [
          "Escape"
        ]
      },
      "source": [
        "I first put my desired values (-5 through 5) into a vector. Then I squared all entries of the vector using my function, and added a '.' before the input to make it iterative. Then I had a function plot the new vector."
      ]
    },
    {
      "cell_type": "markdown",
      "id": "eaca6031-e691-4019-9986-e7127b3df842",
      "metadata": {},
      "source": [
        "## Commit and Push Your Changes to GitHub\n",
        "\n",
        "After completing the previous two exercises, commit your solution file\n",
        "(notebook or otherwise) and push to GitHub. Use an informative commit\n",
        "message which makes it clear what changes you’ve made. The specific\n",
        "workflow for this will vary depending on how you’re writing up your\n",
        "solutions; please search for specifics and ask for help as needed!\n",
        "\n",
        "> **Useful Commit Sizes**\n",
        ">\n",
        "> Ideally, you’d commit whenever you make a “substantial” enough change\n",
        "> that you want to lock in, such as writing the core code for a problem\n",
        "> or completing a problem, if you’re preparing code to be used elsewhere\n",
        "> (by yourself or others), or if you want to ask for help. `git` lets\n",
        "> you revert changes back to a previous commit, so it’s easy to undo\n",
        "> changes or updates which broke something that was previously working,\n",
        "> so changing too many things at once can make it hard to keep track of\n",
        "> what worked when.\n",
        ">\n",
        "> But in this case, go ahead and just commit after finishing the\n",
        "> problems.\n",
        "\n",
        "Push the repository with these commits to GitHub and take a screenshot\n",
        "of the repository page\n",
        "(`https://github.com/BEE4750-FA24/<username>/lab01`) which shows the\n",
        "updated repository. Include that screenshot in your submission as the\n",
        "solution to this problem.\n",
        "\n",
        "## Submitting PDF\n",
        "\n",
        "> **Important**\n",
        ">\n",
        "> These submission instructions will not be repeated on future\n",
        "> assignments!\n",
        "\n",
        "Export your writeup as a PDF and submit it to the “Lab 1” assignment on\n",
        "Gradescope. Make sure that you tag pages corresponding to relevant\n",
        "problems to avoid a 10% penalty.\n",
        "\n",
        "> **Printing Code to PDF**\n",
        ">\n",
        "> You are not required to submit your code when submitting assignments.\n",
        "> However, when printing a notebook to PDF, long lines will run off the\n",
        "> edge of code cells, which may result in comments or code being hidden.\n",
        "> If you see this, go back to the notebook and break up long lines into\n",
        "> shorter onces (for example, see the comment in the above code cell) to\n",
        "> ensure key parts of your results aren’t missing."
      ]
    },
    {
      "cell_type": "code",
      "execution_count": 51,
      "id": "7b83c4db",
      "metadata": {},
      "outputs": [],
      "source": []
    }
  ],
  "metadata": {
    "kernel_info": {
      "name": "julia"
    },
    "kernelspec": {
      "display_name": "Julia 1.10.4",
      "language": "julia",
      "name": "julia-1.10"
    },
    "language_info": {
      "file_extension": ".jl",
      "mimetype": "application/julia",
      "name": "julia",
      "version": "1.10.4"
    }
  },
  "nbformat": 4,
  "nbformat_minor": 5
}
